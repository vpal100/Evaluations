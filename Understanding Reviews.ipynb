{
 "cells": [
  {
   "cell_type": "code",
   "execution_count": 1,
   "metadata": {},
   "outputs": [
    {
     "name": "stderr",
     "output_type": "stream",
     "text": [
      "C:\\Users\\User\\Anaconda3\\lib\\site-packages\\sklearn\\cross_validation.py:41: DeprecationWarning: This module was deprecated in version 0.18 in favor of the model_selection module into which all the refactored classes and functions are moved. Also note that the interface of the new CV iterators are different from that of this module. This module will be removed in 0.20.\n",
      "  \"This module will be removed in 0.20.\", DeprecationWarning)\n"
     ]
    }
   ],
   "source": [
    "import os\n",
    "import pandas as pd\n",
    "import numpy as np\n",
    "import re\n",
    "import sklearn\n",
    "import xgboost as xgb\n",
    "import seaborn as sns\n",
    "import nltk.stem as stm\n",
    "import matplotlib.pyplot as plt\n",
    "%matplotlib inline"
   ]
  },
  {
   "cell_type": "code",
   "execution_count": 302,
   "metadata": {
    "collapsed": true
   },
   "outputs": [],
   "source": [
    "Reviews_df=pd.read_excel('Reviews7.xls')"
   ]
  },
  {
   "cell_type": "code",
   "execution_count": 303,
   "metadata": {},
   "outputs": [
    {
     "data": {
      "text/html": [
       "<div>\n",
       "<style>\n",
       "    .dataframe thead tr:only-child th {\n",
       "        text-align: right;\n",
       "    }\n",
       "\n",
       "    .dataframe thead th {\n",
       "        text-align: left;\n",
       "    }\n",
       "\n",
       "    .dataframe tbody tr th {\n",
       "        vertical-align: top;\n",
       "    }\n",
       "</style>\n",
       "<table border=\"1\" class=\"dataframe\">\n",
       "  <thead>\n",
       "    <tr style=\"text-align: right;\">\n",
       "      <th></th>\n",
       "      <th>Name</th>\n",
       "      <th>Id</th>\n",
       "      <th>Overall Rating</th>\n",
       "      <th>Percentage Would Recommend</th>\n",
       "      <th>Overall Difficulty</th>\n",
       "      <th>Review Qverall Quality</th>\n",
       "      <th>Review Difficulty</th>\n",
       "      <th>Review Text</th>\n",
       "      <th>Review Tags</th>\n",
       "    </tr>\n",
       "  </thead>\n",
       "  <tbody>\n",
       "    <tr>\n",
       "      <th>7421</th>\n",
       "      <td>VladimirGurewich</td>\n",
       "      <td>2210052</td>\n",
       "      <td>4.7</td>\n",
       "      <td>89</td>\n",
       "      <td>2.8</td>\n",
       "      <td>3.0</td>\n",
       "      <td>3</td>\n",
       "      <td>He's a cool dude and all.. really attractive t...</td>\n",
       "      <td>PARTICIPATION MATTERS\\r\\r\\nGIVES GOOD FEEDBACK...</td>\n",
       "    </tr>\n",
       "    <tr>\n",
       "      <th>14487</th>\n",
       "      <td>JoshuaFarrington</td>\n",
       "      <td>1797124</td>\n",
       "      <td>4.9</td>\n",
       "      <td>100</td>\n",
       "      <td>2.1</td>\n",
       "      <td>5.0</td>\n",
       "      <td>2</td>\n",
       "      <td>Best Teacher Ever. Josh you motivated me so mu...</td>\n",
       "      <td>INSPIRATIONAL\\r\\nHILARIOUS\\r\\nRESPECTED</td>\n",
       "    </tr>\n",
       "    <tr>\n",
       "      <th>16325</th>\n",
       "      <td>RobbyaGreen-Weir</td>\n",
       "      <td>1613683</td>\n",
       "      <td>3.1</td>\n",
       "      <td>81</td>\n",
       "      <td>3.6</td>\n",
       "      <td>5.0</td>\n",
       "      <td>2</td>\n",
       "      <td>She is an awesome teacher with real world expe...</td>\n",
       "      <td>AMAZING LECTURES\\r\\nCARING\\r\\nGIVES GOOD FEEDBACK</td>\n",
       "    </tr>\n",
       "    <tr>\n",
       "      <th>15202</th>\n",
       "      <td>ToddPrickett</td>\n",
       "      <td>1605942</td>\n",
       "      <td>4.9</td>\n",
       "      <td>83</td>\n",
       "      <td>2.2</td>\n",
       "      <td>4.5</td>\n",
       "      <td>3</td>\n",
       "      <td>He really knows his stuff. He's very kind and ...</td>\n",
       "      <td>NaN</td>\n",
       "    </tr>\n",
       "    <tr>\n",
       "      <th>2999</th>\n",
       "      <td>Thomas A.Underwood</td>\n",
       "      <td>1096366</td>\n",
       "      <td>4.7</td>\n",
       "      <td>60</td>\n",
       "      <td>3.6</td>\n",
       "      <td>5.0</td>\n",
       "      <td>3</td>\n",
       "      <td>TAKE THIS CLASS! Best professor I've ever had....</td>\n",
       "      <td>INSPIRATIONAL\\r\\r\\r\\nAMAZING LECTURES\\r\\r\\r\\nR...</td>\n",
       "    </tr>\n",
       "  </tbody>\n",
       "</table>\n",
       "</div>"
      ],
      "text/plain": [
       "                     Name       Id  Overall Rating  \\\n",
       "7421     VladimirGurewich  2210052             4.7   \n",
       "14487    JoshuaFarrington  1797124             4.9   \n",
       "16325    RobbyaGreen-Weir  1613683             3.1   \n",
       "15202        ToddPrickett  1605942             4.9   \n",
       "2999   Thomas A.Underwood  1096366             4.7   \n",
       "\n",
       "       Percentage Would Recommend  Overall Difficulty  Review Qverall Quality  \\\n",
       "7421                           89                 2.8                     3.0   \n",
       "14487                         100                 2.1                     5.0   \n",
       "16325                          81                 3.6                     5.0   \n",
       "15202                          83                 2.2                     4.5   \n",
       "2999                           60                 3.6                     5.0   \n",
       "\n",
       "       Review Difficulty                                        Review Text  \\\n",
       "7421                   3  He's a cool dude and all.. really attractive t...   \n",
       "14487                  2  Best Teacher Ever. Josh you motivated me so mu...   \n",
       "16325                  2  She is an awesome teacher with real world expe...   \n",
       "15202                  3  He really knows his stuff. He's very kind and ...   \n",
       "2999                   3  TAKE THIS CLASS! Best professor I've ever had....   \n",
       "\n",
       "                                             Review Tags  \n",
       "7421   PARTICIPATION MATTERS\\r\\r\\nGIVES GOOD FEEDBACK...  \n",
       "14487            INSPIRATIONAL\\r\\nHILARIOUS\\r\\nRESPECTED  \n",
       "16325  AMAZING LECTURES\\r\\nCARING\\r\\nGIVES GOOD FEEDBACK  \n",
       "15202                                                NaN  \n",
       "2999   INSPIRATIONAL\\r\\r\\r\\nAMAZING LECTURES\\r\\r\\r\\nR...  "
      ]
     },
     "execution_count": 303,
     "metadata": {},
     "output_type": "execute_result"
    }
   ],
   "source": [
    "Reviews_df.sample(5)"
   ]
  },
  {
   "cell_type": "code",
   "execution_count": 304,
   "metadata": {},
   "outputs": [
    {
     "data": {
      "text/plain": [
       "(20742, 9)"
      ]
     },
     "execution_count": 304,
     "metadata": {},
     "output_type": "execute_result"
    }
   ],
   "source": [
    "Reviews_df.shape"
   ]
  },
  {
   "cell_type": "code",
   "execution_count": 305,
   "metadata": {},
   "outputs": [
    {
     "data": {
      "text/plain": [
       "<matplotlib.axes._subplots.AxesSubplot at 0x29e894d7438>"
      ]
     },
     "execution_count": 305,
     "metadata": {},
     "output_type": "execute_result"
    },
    {
     "data": {
      "image/png": "iVBORw0KGgoAAAANSUhEUgAAAXcAAAEKCAYAAADpfBXhAAAABHNCSVQICAgIfAhkiAAAAAlwSFlz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\nSOEuIhJA/x+N6mfho9u7zgAAAABJRU5ErkJggg==\n",
      "text/plain": [
       "<matplotlib.figure.Figure at 0x29e827b2be0>"
      ]
     },
     "metadata": {},
     "output_type": "display_data"
    }
   ],
   "source": [
    "sns.distplot(Reviews_df['Overall Rating'])"
   ]
  },
  {
   "cell_type": "code",
   "execution_count": 308,
   "metadata": {},
   "outputs": [
    {
     "name": "stdout",
     "output_type": "stream",
     "text": [
      "0.538209430142\n"
     ]
    }
   ],
   "source": [
    "number_entries=Reviews_df.shape[0]\n",
    "running_sum=0\n",
    "for i in range(0,number_entries):\n",
    "    running_sum += (Reviews_df.loc[i]['Overall Rating']-4.0)**2\n",
    "print(running_sum/number_entries)"
   ]
  },
  {
   "cell_type": "code",
   "execution_count": 309,
   "metadata": {
    "collapsed": true
   },
   "outputs": [],
   "source": [
    "def nan_to_string(text):\n",
    "    if type(text) != str:\n",
    "        return ' '\n",
    "    else:\n",
    "        return text\n",
    "Reviews_df['Clean Review Text'] = Reviews_df['Review Text'].apply(nan_to_string)\n",
    "Reviews_df['Clean Review Tags'] = Reviews_df['Review Tags'].apply(nan_to_string)"
   ]
  },
  {
   "cell_type": "code",
   "execution_count": 310,
   "metadata": {
    "collapsed": true
   },
   "outputs": [],
   "source": [
    "Reviews_df['Clean Review Tags'] = Reviews_df['Clean Review Tags'].apply(lambda x: (\" \".join(x.split())).lower() )"
   ]
  },
  {
   "cell_type": "code",
   "execution_count": 311,
   "metadata": {
    "collapsed": true
   },
   "outputs": [],
   "source": [
    "def text_plus_tags(row):\n",
    "    return row['Clean Review Text'] + row['Clean Review Tags']\n",
    "Reviews_df['Full Review'] = Reviews_df.apply(text_plus_tags, axis=1)"
   ]
  },
  {
   "cell_type": "code",
   "execution_count": 312,
   "metadata": {
    "collapsed": true
   },
   "outputs": [],
   "source": [
    "#Using NLTK to find only the stem of the word.\n",
    "stemmer = stm.PorterStemmer()\n",
    "Reviews_df['Full Review Stem'] = Reviews_df['Full Review'].apply(lambda text: \" \".join([stemmer.stem(word) for word in text.split(\" \")]))"
   ]
  },
  {
   "cell_type": "code",
   "execution_count": 207,
   "metadata": {},
   "outputs": [
    {
     "data": {
      "text/html": [
       "<div>\n",
       "<style>\n",
       "    .dataframe thead tr:only-child th {\n",
       "        text-align: right;\n",
       "    }\n",
       "\n",
       "    .dataframe thead th {\n",
       "        text-align: left;\n",
       "    }\n",
       "\n",
       "    .dataframe tbody tr th {\n",
       "        vertical-align: top;\n",
       "    }\n",
       "</style>\n",
       "<table border=\"1\" class=\"dataframe\">\n",
       "  <thead>\n",
       "    <tr style=\"text-align: right;\">\n",
       "      <th></th>\n",
       "      <th>Name</th>\n",
       "      <th>Id</th>\n",
       "      <th>Overall Rating</th>\n",
       "      <th>Percentage Would Recommend</th>\n",
       "      <th>Overall Difficulty</th>\n",
       "      <th>Review Qverall Quality</th>\n",
       "      <th>Review Difficulty</th>\n",
       "      <th>Review Text</th>\n",
       "      <th>Review Tags</th>\n",
       "      <th>Clean Review Text</th>\n",
       "      <th>Clean Review Tags</th>\n",
       "      <th>Full Review</th>\n",
       "      <th>Full Review Stem</th>\n",
       "    </tr>\n",
       "  </thead>\n",
       "  <tbody>\n",
       "    <tr>\n",
       "      <th>1882</th>\n",
       "      <td>EmilyHavey</td>\n",
       "      <td>1899671</td>\n",
       "      <td>3.9</td>\n",
       "      <td>63</td>\n",
       "      <td>2.7</td>\n",
       "      <td>5.0</td>\n",
       "      <td>2</td>\n",
       "      <td>My favorite teacher this semester. Her class i...</td>\n",
       "      <td>RESPECTED\\r\\r\\nPARTICIPATION MATTERS\\r\\r\\nSKIP...</td>\n",
       "      <td>My favorite teacher this semester. Her class i...</td>\n",
       "      <td>respected participation matters skip class? yo...</td>\n",
       "      <td>My favorite teacher this semester. Her class i...</td>\n",
       "      <td>My favorit teacher thi semester. her class is ...</td>\n",
       "    </tr>\n",
       "    <tr>\n",
       "      <th>7341</th>\n",
       "      <td>AgneReizgeviciute</td>\n",
       "      <td>1913628</td>\n",
       "      <td>3.2</td>\n",
       "      <td>77</td>\n",
       "      <td>3.4</td>\n",
       "      <td>5.0</td>\n",
       "      <td>3</td>\n",
       "      <td>Agne is a great instructor. She stays updated ...</td>\n",
       "      <td>CARING\\r\\nRESPECTED\\r\\nGROUP PROJECTS</td>\n",
       "      <td>Agne is a great instructor. She stays updated ...</td>\n",
       "      <td>caring respected group projects</td>\n",
       "      <td>Agne is a great instructor. She stays updated ...</td>\n",
       "      <td>agn is a great instructor. she stay updat with...</td>\n",
       "    </tr>\n",
       "    <tr>\n",
       "      <th>8482</th>\n",
       "      <td>SyedRizvi</td>\n",
       "      <td>2316343</td>\n",
       "      <td>5.0</td>\n",
       "      <td>100</td>\n",
       "      <td>3.6</td>\n",
       "      <td>5.0</td>\n",
       "      <td>3</td>\n",
       "      <td>Excellent Professor, taught us ver well and pr...</td>\n",
       "      <td>HILARIOUS\\r\\nINSPIRATIONAL</td>\n",
       "      <td>Excellent Professor, taught us ver well and pr...</td>\n",
       "      <td>hilarious inspirational</td>\n",
       "      <td>Excellent Professor, taught us ver well and pr...</td>\n",
       "      <td>excel professor, taught us ver well and provid...</td>\n",
       "    </tr>\n",
       "    <tr>\n",
       "      <th>8112</th>\n",
       "      <td>DavidTiffany</td>\n",
       "      <td>1224311</td>\n",
       "      <td>3.8</td>\n",
       "      <td>73</td>\n",
       "      <td>3.2</td>\n",
       "      <td>5.0</td>\n",
       "      <td>3</td>\n",
       "      <td>One of my favorite professors. His lectures ma...</td>\n",
       "      <td>NaN</td>\n",
       "      <td>One of my favorite professors. His lectures ma...</td>\n",
       "      <td></td>\n",
       "      <td>One of my favorite professors. His lectures ma...</td>\n",
       "      <td>one of my favorit professors. hi lectur may be...</td>\n",
       "    </tr>\n",
       "    <tr>\n",
       "      <th>3985</th>\n",
       "      <td>DavidManuel</td>\n",
       "      <td>1029974</td>\n",
       "      <td>4.3</td>\n",
       "      <td>88</td>\n",
       "      <td>3.3</td>\n",
       "      <td>5.0</td>\n",
       "      <td>2</td>\n",
       "      <td>Math 166 is one of the best things you can do!...</td>\n",
       "      <td>ACCESSIBLE OUTSIDE CLASS\\r\\r\\nCLEAR GRADING CR...</td>\n",
       "      <td>Math 166 is one of the best things you can do!...</td>\n",
       "      <td>accessible outside class clear grading criteri...</td>\n",
       "      <td>Math 166 is one of the best things you can do!...</td>\n",
       "      <td>math 166 is one of the best thing you can do! ...</td>\n",
       "    </tr>\n",
       "  </tbody>\n",
       "</table>\n",
       "</div>"
      ],
      "text/plain": [
       "                   Name       Id  Overall Rating  Percentage Would Recommend  \\\n",
       "1882         EmilyHavey  1899671             3.9                          63   \n",
       "7341  AgneReizgeviciute  1913628             3.2                          77   \n",
       "8482          SyedRizvi  2316343             5.0                         100   \n",
       "8112       DavidTiffany  1224311             3.8                          73   \n",
       "3985        DavidManuel  1029974             4.3                          88   \n",
       "\n",
       "      Overall Difficulty  Review Qverall Quality  Review Difficulty  \\\n",
       "1882                 2.7                     5.0                  2   \n",
       "7341                 3.4                     5.0                  3   \n",
       "8482                 3.6                     5.0                  3   \n",
       "8112                 3.2                     5.0                  3   \n",
       "3985                 3.3                     5.0                  2   \n",
       "\n",
       "                                            Review Text  \\\n",
       "1882  My favorite teacher this semester. Her class i...   \n",
       "7341  Agne is a great instructor. She stays updated ...   \n",
       "8482  Excellent Professor, taught us ver well and pr...   \n",
       "8112  One of my favorite professors. His lectures ma...   \n",
       "3985  Math 166 is one of the best things you can do!...   \n",
       "\n",
       "                                            Review Tags  \\\n",
       "1882  RESPECTED\\r\\r\\nPARTICIPATION MATTERS\\r\\r\\nSKIP...   \n",
       "7341              CARING\\r\\nRESPECTED\\r\\nGROUP PROJECTS   \n",
       "8482                         HILARIOUS\\r\\nINSPIRATIONAL   \n",
       "8112                                                NaN   \n",
       "3985  ACCESSIBLE OUTSIDE CLASS\\r\\r\\nCLEAR GRADING CR...   \n",
       "\n",
       "                                      Clean Review Text  \\\n",
       "1882  My favorite teacher this semester. Her class i...   \n",
       "7341  Agne is a great instructor. She stays updated ...   \n",
       "8482  Excellent Professor, taught us ver well and pr...   \n",
       "8112  One of my favorite professors. His lectures ma...   \n",
       "3985  Math 166 is one of the best things you can do!...   \n",
       "\n",
       "                                      Clean Review Tags  \\\n",
       "1882  respected participation matters skip class? yo...   \n",
       "7341                    caring respected group projects   \n",
       "8482                            hilarious inspirational   \n",
       "8112                                                      \n",
       "3985  accessible outside class clear grading criteri...   \n",
       "\n",
       "                                            Full Review  \\\n",
       "1882  My favorite teacher this semester. Her class i...   \n",
       "7341  Agne is a great instructor. She stays updated ...   \n",
       "8482  Excellent Professor, taught us ver well and pr...   \n",
       "8112  One of my favorite professors. His lectures ma...   \n",
       "3985  Math 166 is one of the best things you can do!...   \n",
       "\n",
       "                                       Full Review Stem  \n",
       "1882  My favorit teacher thi semester. her class is ...  \n",
       "7341  agn is a great instructor. she stay updat with...  \n",
       "8482  excel professor, taught us ver well and provid...  \n",
       "8112  one of my favorit professors. hi lectur may be...  \n",
       "3985  math 166 is one of the best thing you can do! ...  "
      ]
     },
     "execution_count": 207,
     "metadata": {},
     "output_type": "execute_result"
    }
   ],
   "source": [
    "Reviews_df.sample(5)"
   ]
  },
  {
   "cell_type": "code",
   "execution_count": 147,
   "metadata": {
    "collapsed": true
   },
   "outputs": [],
   "source": [
    "from sklearn.feature_extraction import text \n",
    "new_stop_words = text.ENGLISH_STOP_WORDS.difference({'she', 'he'})\n",
    "new_stop_words;"
   ]
  },
  {
   "cell_type": "code",
   "execution_count": 313,
   "metadata": {
    "collapsed": true
   },
   "outputs": [],
   "source": [
    "from sklearn.feature_extraction.text import CountVectorizer\n",
    "vectorizer = CountVectorizer(ngram_range=(1, 5), stop_words=new_stop_words,min_df=.03, max_df=.97, max_features=25000)#words and pairs of words\n",
    "X = vectorizer.fit_transform(Reviews_df['Full Review Stem'])\n",
    "X_vec=pd.DataFrame(X.toarray(),columns=vectorizer.get_feature_names())"
   ]
  },
  {
   "cell_type": "code",
   "execution_count": 314,
   "metadata": {},
   "outputs": [
    {
     "data": {
      "text/plain": [
       "(20742, 204)"
      ]
     },
     "execution_count": 314,
     "metadata": {},
     "output_type": "execute_result"
    }
   ],
   "source": [
    "X_vec.shape"
   ]
  },
  {
   "cell_type": "code",
   "execution_count": 315,
   "metadata": {
    "collapsed": true
   },
   "outputs": [],
   "source": [
    "from sklearn.feature_extraction.text import TfidfTransformer\n",
    "transformer = TfidfTransformer()#smooth_idf=False)\n",
    "tfidf = transformer.fit_transform(X.toarray())\n",
    "X_vec_transform=pd.DataFrame(tfidf.toarray(),columns=vectorizer.get_feature_names())"
   ]
  },
  {
   "cell_type": "code",
   "execution_count": 316,
   "metadata": {
    "collapsed": true
   },
   "outputs": [],
   "source": [
    "from sklearn.model_selection import train_test_split\n",
    "from sklearn.preprocessing import StandardScaler\n",
    "#Features = [features[i] for i in indices[:top_n]]\n",
    "#scale = StandardScaler()\n",
    "#X_all = scale.fit_transform(X_vec)#[Features])\n",
    "X_all=X_vec_transform#[Features]\n",
    "y_all = Reviews_df['Overall Rating']#['Would_Recommend']#\n",
    "\n",
    "num_test = 0.20\n",
    "X_train, X_test, y_train, y_test = train_test_split(X_all, y_all, test_size=num_test)"
   ]
  },
  {
   "cell_type": "code",
   "execution_count": 22,
   "metadata": {
    "collapsed": true
   },
   "outputs": [],
   "source": [
    "from sklearn.metrics import  mean_squared_log_error,  mean_squared_error"
   ]
  },
  {
   "cell_type": "code",
   "execution_count": 318,
   "metadata": {},
   "outputs": [
    {
     "name": "stdout",
     "output_type": "stream",
     "text": [
      "0.42485712615\n",
      "0.433126382015\n"
     ]
    }
   ],
   "source": [
    "from sklearn.linear_model import Lasso\n",
    "lasso = Lasso(alpha=.000001, max_iter=10000)\n",
    "lasso.fit(X_train, y_train)\n",
    "predictions= lasso.predict(X_test)\n",
    "print(mean_squared_error(y_train, lasso.predict(X_train) ))\n",
    "print(mean_squared_error(y_test,predictions) )"
   ]
  },
  {
   "cell_type": "code",
   "execution_count": 320,
   "metadata": {},
   "outputs": [
    {
     "name": "stdout",
     "output_type": "stream",
     "text": [
      "0.392428334827\n",
      "0.433323114166\n"
     ]
    }
   ],
   "source": [
    "from xgboost import XGBClassifier, XGBRegressor\n",
    "gbm = xgb.XGBRegressor(n_estimators=150)\n",
    "gbm.fit(X_train, y_train)\n",
    "predictions = gbm.predict(X_test)\n",
    "print(mean_squared_error(y_train, gbm.predict(X_train)))\n",
    "print(mean_squared_error(y_test, predictions))"
   ]
  },
  {
   "cell_type": "code",
   "execution_count": 321,
   "metadata": {},
   "outputs": [
    {
     "name": "stdout",
     "output_type": "stream",
     "text": [
      "0.0207088340814\n",
      "0.0205921318915\n"
     ]
    }
   ],
   "source": [
    "from sklearn.linear_model import BayesianRidge\n",
    "br = BayesianRidge() #ARDRegression()\n",
    "br.fit(X_train, y_train)\n",
    "predictions5= br.predict(X_test)\n",
    "print(mean_squared_log_error(y_train, br.predict(X_train)))\n",
    "print(mean_squared_log_error(y_test, predictions5))"
   ]
  },
  {
   "cell_type": "code",
   "execution_count": 322,
   "metadata": {},
   "outputs": [
    {
     "data": {
      "text/plain": [
       "amaz               24\n",
       "hard               23\n",
       "good feedback      22\n",
       "easi               20\n",
       "grader             20\n",
       "she                18\n",
       "heavi              18\n",
       "hilari             18\n",
       "great              17\n",
       "best               17\n",
       "class              16\n",
       "bad                15\n",
       "ask                15\n",
       "don                15\n",
       "just               15\n",
       "doesn              14\n",
       "read               14\n",
       "care               14\n",
       "respect            13\n",
       "veri               13\n",
       "professor          13\n",
       "teach              13\n",
       "question           12\n",
       "problem            12\n",
       "ha                 12\n",
       "particip           12\n",
       "homework           11\n",
       "make               11\n",
       "assignments        11\n",
       "love               11\n",
       "                   ..\n",
       "actual              2\n",
       "everyth             2\n",
       "particip matter     2\n",
       "final               2\n",
       "access outsid       2\n",
       "he realli           2\n",
       "best professor      1\n",
       "took                1\n",
       "helpful             1\n",
       "know                1\n",
       "work                1\n",
       "won                 1\n",
       "outsid              1\n",
       "book                1\n",
       "highli              1\n",
       "outsid class        1\n",
       "onlin               1\n",
       "end                 1\n",
       "person              1\n",
       "funni               1\n",
       "onli                1\n",
       "got                 1\n",
       "tests               1\n",
       "she wa              1\n",
       "day                 1\n",
       "skip class won      1\n",
       "students            1\n",
       "come                1\n",
       "guy                 1\n",
       "quizzes             1\n",
       "Length: 172, dtype: int64"
      ]
     },
     "execution_count": 322,
     "metadata": {},
     "output_type": "execute_result"
    }
   ],
   "source": [
    "pd.Series(gbm.booster().get_score(importance_type='weight')).sort_values(ascending=False) #'gain'"
   ]
  },
  {
   "cell_type": "code",
   "execution_count": 323,
   "metadata": {},
   "outputs": [
    {
     "data": {
      "image/png": "iVBORw0KGgoAAAANSUhEUgAAAckAAAEKCAYAAAB5Q65rAAAABHNCSVQICAgIfAhkiAAAAAlwSFlz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\n",
      "text/plain": [
       "<matplotlib.figure.Figure at 0x29e82bb29b0>"
      ]
     },
     "metadata": {},
     "output_type": "display_data"
    },
    {
     "data": {
      "text/html": [
       "<div>\n",
       "<style>\n",
       "    .dataframe thead tr:only-child th {\n",
       "        text-align: right;\n",
       "    }\n",
       "\n",
       "    .dataframe thead th {\n",
       "        text-align: left;\n",
       "    }\n",
       "\n",
       "    .dataframe tbody tr th {\n",
       "        vertical-align: top;\n",
       "    }\n",
       "</style>\n",
       "<table border=\"1\" class=\"dataframe\">\n",
       "  <thead>\n",
       "    <tr style=\"text-align: right;\">\n",
       "      <th></th>\n",
       "      <th>Feature Importance</th>\n",
       "    </tr>\n",
       "  </thead>\n",
       "  <tbody>\n",
       "    <tr>\n",
       "      <th>heavi</th>\n",
       "      <td>-0.633553</td>\n",
       "    </tr>\n",
       "    <tr>\n",
       "      <th>bad</th>\n",
       "      <td>-0.574425</td>\n",
       "    </tr>\n",
       "    <tr>\n",
       "      <th>grader</th>\n",
       "      <td>-0.503672</td>\n",
       "    </tr>\n",
       "    <tr>\n",
       "      <th>hard</th>\n",
       "      <td>-0.459757</td>\n",
       "    </tr>\n",
       "    <tr>\n",
       "      <th>problem</th>\n",
       "      <td>-0.457656</td>\n",
       "    </tr>\n",
       "    <tr>\n",
       "      <th>ask</th>\n",
       "      <td>-0.421977</td>\n",
       "    </tr>\n",
       "    <tr>\n",
       "      <th>offic</th>\n",
       "      <td>-0.369681</td>\n",
       "    </tr>\n",
       "    <tr>\n",
       "      <th>doesn</th>\n",
       "      <td>-0.349473</td>\n",
       "    </tr>\n",
       "    <tr>\n",
       "      <th>expect</th>\n",
       "      <td>-0.346708</td>\n",
       "    </tr>\n",
       "    <tr>\n",
       "      <th>just</th>\n",
       "      <td>-0.293106</td>\n",
       "    </tr>\n",
       "    <tr>\n",
       "      <th>don</th>\n",
       "      <td>-0.287942</td>\n",
       "    </tr>\n",
       "    <tr>\n",
       "      <th>lab</th>\n",
       "      <td>-0.279875</td>\n",
       "    </tr>\n",
       "    <tr>\n",
       "      <th>tough</th>\n",
       "      <td>-0.270273</td>\n",
       "    </tr>\n",
       "    <tr>\n",
       "      <th>difficult</th>\n",
       "      <td>-0.261581</td>\n",
       "    </tr>\n",
       "    <tr>\n",
       "      <th>doe</th>\n",
       "      <td>-0.250186</td>\n",
       "    </tr>\n",
       "    <tr>\n",
       "      <th>question</th>\n",
       "      <td>-0.242958</td>\n",
       "    </tr>\n",
       "    <tr>\n",
       "      <th>lot homework</th>\n",
       "      <td>-0.241799</td>\n",
       "    </tr>\n",
       "    <tr>\n",
       "      <th>say</th>\n",
       "      <td>-0.232036</td>\n",
       "    </tr>\n",
       "    <tr>\n",
       "      <th>assignments</th>\n",
       "      <td>-0.221897</td>\n",
       "    </tr>\n",
       "    <tr>\n",
       "      <th>teach</th>\n",
       "      <td>-0.218222</td>\n",
       "    </tr>\n",
       "    <tr>\n",
       "      <th>tri</th>\n",
       "      <td>-0.215177</td>\n",
       "    </tr>\n",
       "    <tr>\n",
       "      <th>talk</th>\n",
       "      <td>-0.212766</td>\n",
       "    </tr>\n",
       "    <tr>\n",
       "      <th>lectur</th>\n",
       "      <td>-0.205739</td>\n",
       "    </tr>\n",
       "    <tr>\n",
       "      <th>lectures</th>\n",
       "      <td>-0.205341</td>\n",
       "    </tr>\n",
       "    <tr>\n",
       "      <th>read</th>\n",
       "      <td>-0.203103</td>\n",
       "    </tr>\n",
       "    <tr>\n",
       "      <th>did</th>\n",
       "      <td>-0.201395</td>\n",
       "    </tr>\n",
       "    <tr>\n",
       "      <th>think</th>\n",
       "      <td>-0.197117</td>\n",
       "    </tr>\n",
       "    <tr>\n",
       "      <th>didn</th>\n",
       "      <td>-0.195851</td>\n",
       "    </tr>\n",
       "    <tr>\n",
       "      <th>veri</th>\n",
       "      <td>-0.190345</td>\n",
       "    </tr>\n",
       "    <tr>\n",
       "      <th>materi</th>\n",
       "      <td>-0.181346</td>\n",
       "    </tr>\n",
       "    <tr>\n",
       "      <th>...</th>\n",
       "      <td>...</td>\n",
       "    </tr>\n",
       "    <tr>\n",
       "      <th>particip</th>\n",
       "      <td>0.232467</td>\n",
       "    </tr>\n",
       "    <tr>\n",
       "      <th>won</th>\n",
       "      <td>0.239719</td>\n",
       "    </tr>\n",
       "    <tr>\n",
       "      <th>enjoy</th>\n",
       "      <td>0.251901</td>\n",
       "    </tr>\n",
       "    <tr>\n",
       "      <th>make</th>\n",
       "      <td>0.261113</td>\n",
       "    </tr>\n",
       "    <tr>\n",
       "      <th>alway</th>\n",
       "      <td>0.264709</td>\n",
       "    </tr>\n",
       "    <tr>\n",
       "      <th>interesting</th>\n",
       "      <td>0.282172</td>\n",
       "    </tr>\n",
       "    <tr>\n",
       "      <th>highli recommend</th>\n",
       "      <td>0.283584</td>\n",
       "    </tr>\n",
       "    <tr>\n",
       "      <th>far</th>\n",
       "      <td>0.283874</td>\n",
       "    </tr>\n",
       "    <tr>\n",
       "      <th>funni</th>\n",
       "      <td>0.289077</td>\n",
       "    </tr>\n",
       "    <tr>\n",
       "      <th>clear</th>\n",
       "      <td>0.291063</td>\n",
       "    </tr>\n",
       "    <tr>\n",
       "      <th>discuss</th>\n",
       "      <td>0.291678</td>\n",
       "    </tr>\n",
       "    <tr>\n",
       "      <th>day</th>\n",
       "      <td>0.301306</td>\n",
       "    </tr>\n",
       "    <tr>\n",
       "      <th>feedback</th>\n",
       "      <td>0.310996</td>\n",
       "    </tr>\n",
       "    <tr>\n",
       "      <th>definit</th>\n",
       "      <td>0.316487</td>\n",
       "    </tr>\n",
       "    <tr>\n",
       "      <th>awesom</th>\n",
       "      <td>0.346676</td>\n",
       "    </tr>\n",
       "    <tr>\n",
       "      <th>easi</th>\n",
       "      <td>0.377662</td>\n",
       "    </tr>\n",
       "    <tr>\n",
       "      <th>amaz lectur</th>\n",
       "      <td>0.400114</td>\n",
       "    </tr>\n",
       "    <tr>\n",
       "      <th>car</th>\n",
       "      <td>0.412223</td>\n",
       "    </tr>\n",
       "    <tr>\n",
       "      <th>love</th>\n",
       "      <td>0.433525</td>\n",
       "    </tr>\n",
       "    <tr>\n",
       "      <th>passion</th>\n",
       "      <td>0.450510</td>\n",
       "    </tr>\n",
       "    <tr>\n",
       "      <th>fun</th>\n",
       "      <td>0.453712</td>\n",
       "    </tr>\n",
       "    <tr>\n",
       "      <th>inspir</th>\n",
       "      <td>0.488535</td>\n",
       "    </tr>\n",
       "    <tr>\n",
       "      <th>care</th>\n",
       "      <td>0.531788</td>\n",
       "    </tr>\n",
       "    <tr>\n",
       "      <th>favorit</th>\n",
       "      <td>0.533970</td>\n",
       "    </tr>\n",
       "    <tr>\n",
       "      <th>good feedback</th>\n",
       "      <td>0.549988</td>\n",
       "    </tr>\n",
       "    <tr>\n",
       "      <th>best</th>\n",
       "      <td>0.571888</td>\n",
       "    </tr>\n",
       "    <tr>\n",
       "      <th>great</th>\n",
       "      <td>0.616236</td>\n",
       "    </tr>\n",
       "    <tr>\n",
       "      <th>respect</th>\n",
       "      <td>0.692870</td>\n",
       "    </tr>\n",
       "    <tr>\n",
       "      <th>hilari</th>\n",
       "      <td>0.731601</td>\n",
       "    </tr>\n",
       "    <tr>\n",
       "      <th>amaz</th>\n",
       "      <td>0.745738</td>\n",
       "    </tr>\n",
       "  </tbody>\n",
       "</table>\n",
       "<p>204 rows × 1 columns</p>\n",
       "</div>"
      ],
      "text/plain": [
       "                  Feature Importance\n",
       "heavi                      -0.633553\n",
       "bad                        -0.574425\n",
       "grader                     -0.503672\n",
       "hard                       -0.459757\n",
       "problem                    -0.457656\n",
       "ask                        -0.421977\n",
       "offic                      -0.369681\n",
       "doesn                      -0.349473\n",
       "expect                     -0.346708\n",
       "just                       -0.293106\n",
       "don                        -0.287942\n",
       "lab                        -0.279875\n",
       "tough                      -0.270273\n",
       "difficult                  -0.261581\n",
       "doe                        -0.250186\n",
       "question                   -0.242958\n",
       "lot homework               -0.241799\n",
       "say                        -0.232036\n",
       "assignments                -0.221897\n",
       "teach                      -0.218222\n",
       "tri                        -0.215177\n",
       "talk                       -0.212766\n",
       "lectur                     -0.205739\n",
       "lectures                   -0.205341\n",
       "read                       -0.203103\n",
       "did                        -0.201395\n",
       "think                      -0.197117\n",
       "didn                       -0.195851\n",
       "veri                       -0.190345\n",
       "materi                     -0.181346\n",
       "...                              ...\n",
       "particip                    0.232467\n",
       "won                         0.239719\n",
       "enjoy                       0.251901\n",
       "make                        0.261113\n",
       "alway                       0.264709\n",
       "interesting                 0.282172\n",
       "highli recommend            0.283584\n",
       "far                         0.283874\n",
       "funni                       0.289077\n",
       "clear                       0.291063\n",
       "discuss                     0.291678\n",
       "day                         0.301306\n",
       "feedback                    0.310996\n",
       "definit                     0.316487\n",
       "awesom                      0.346676\n",
       "easi                        0.377662\n",
       "amaz lectur                 0.400114\n",
       "car                         0.412223\n",
       "love                        0.433525\n",
       "passion                     0.450510\n",
       "fun                         0.453712\n",
       "inspir                      0.488535\n",
       "care                        0.531788\n",
       "favorit                     0.533970\n",
       "good feedback               0.549988\n",
       "best                        0.571888\n",
       "great                       0.616236\n",
       "respect                     0.692870\n",
       "hilari                      0.731601\n",
       "amaz                        0.745738\n",
       "\n",
       "[204 rows x 1 columns]"
      ]
     },
     "execution_count": 323,
     "metadata": {},
     "output_type": "execute_result"
    }
   ],
   "source": [
    "FI_br = pd.DataFrame({\"Feature Importance\":br.coef_}, index=X_all.columns)\n",
    "FI_br.sort_values(\"Feature Importance\",ascending=False)\n",
    "FI_br[FI_br[\"Feature Importance\"]!=0].sort_values(\"Feature Importance\").plot(kind=\"barh\")#,figsize=(15,25))\n",
    "plt.xticks(rotation=90)\n",
    "plt.show()\n",
    "FI_br[FI_br[\"Feature Importance\"]!=0].sort_values(\"Feature Importance\")"
   ]
  },
  {
   "cell_type": "code",
   "execution_count": 324,
   "metadata": {},
   "outputs": [
    {
     "data": {
      "text/plain": [
       "<matplotlib.axes._subplots.AxesSubplot at 0x29e812fef60>"
      ]
     },
     "execution_count": 324,
     "metadata": {},
     "output_type": "execute_result"
    },
    {
     "data": {
      "image/png": "iVBORw0KGgoAAAANSUhEUgAAAYUAAAEKCAYAAAD9xUlFAAAABHNCSVQICAgIfAhkiAAAAAlwSFlz\nAAALEgAACxIB0t1+/AAAADl0RVh0U29mdHdhcmUAbWF0cGxvdGxpYiB2ZXJzaW9uIDIuMS4wLCBo\ndHRwOi8vbWF0cGxvdGxpYi5vcmcvpW3flQAAIABJREFUeJzt3X+cHXV97/HXe89uwm4IJJJEKElM\nolYq3gi4UkEeMVpuq4DherUCrVatlGD9rb29WK5R09tb7A+1lD4kEVuxKmipP6JIH2IxXdGCbiAE\nAlHogiYCboSQBHaT3XPO5/4xc86ePXt295zsztkfeT8fj3mcOd/5zswnk9n97He+M99RRGBmZgbQ\nMtUBmJnZ9OGkYGZmZU4KZmZW5qRgZmZlTgpmZlbmpGBmZmVOCmZmVuakYGZmZU4KZmZW1jrVATRq\n0aJFsWLFiqkOw8xsRtm2bduvImLxePVmXFJYsWIF3d3dUx2GmdmMIuln9dTz5SMzMytzUjAzszIn\nBTMzK3NSMDOzMicFMzMryzQpSHpE0r2StksaccuQEldLekjSDklnZBmPmZmNrRm3pL4yIn41yrLX\nAM9Pp98EPp1+TqoVV9w8ouyRq86f7N3YUcznmGVp665eNnX1sHtfH8sWdrB+zSrWnrIkk31N9eWj\nC4HPR+IOYIGkkyZzB7V+WMcqN2uUzzHL0tZdvWzYspPeg4dY0N5G78FDbNiyk627ejPZX9ZJIYDv\nSNom6bIay08Gdld835OWmZkZsKmrh7ac6JjTipR8tuXEpq6eTPaX9eWjl0fEo5KWALdK2hURXRXL\nVWOdqC5IE8plAMuXL88mUjOzaWj3vj4WtLcNK2tvy7FnX18m+8u0pRARj6afvcDXgDOrquwBllV8\nXwo8WmM7myOiMyI6Fy8ed+gOM7NZY9nCDvoHC8PK+gcLLF3Ykcn+MksKkuZJml+aB34buK+q2hbg\nD9K7kF4G7I+Ix7KKycxsplm/ZhX7+wd5sPcgux4/wIO9B9nfP8j6Nasy2V+Wl4+eDXxNUmk/X4qI\nf5N0OUBEXAt8GzgPeAjoA96WYTxmZjOSAAIiAkI1r7tPlsySQkT0AC+uUX5txXwA78wqBjOzmW5T\nVw/Htbdx4vHt5bK+gTybunoyuS11qm9JNTOzMeze10d7W25Y2YztaDYzs4lpdkfzjHvJjpnZ0WT9\nmlW84wvd9OeH7tZvbxUfPv+FmezPLQUzs2nsG9v3DEsIAP354Bvb92SyPycFM7NpbMuOxwGQhqbK\n8snmpGBmNo0ViiMGeRizfKKcFMzMprFcS+2nEkYrnygnBTOzaWzd6hMBiBiaKssnm5OCmZmVOSmY\nmU1j7mg2M7MydzSbmVmZO5rNzKzMHc1mZla2ctGxDZVPlJOCmdk0dt3tD9OWE+1tufLUlhPX3f5w\nJvtzUjAzm8aeGShQ3X3QoqQ8C04KZmbT2Lw5OapvNCpGUp6FzJOCpJykuyV9q8ayt0raK2l7Ol2a\ndTxmZjPJpeesJF8I+gcL5SlfCC49Z2Um+2vG+xTeCzwAHDfK8i9HxLuaEIeZ2YxU/URCNk8oJDJt\nKUhaCpwPXJflfszMZqvZ1tH8KeBPgeIYdV4vaYekmyQtq1VB0mWSuiV17927N5NAzcymo1nT0Szp\nAqA3IraNUe2bwIqIWA18F7i+VqWI2BwRnRHRuXjx4gyiNTObnmZTR/PLgXWSHgFuBF4l6QuVFSLi\niYg4nH79DPCSDOMxM5txLj1nJcWAfLFIMYrpJ5l1NGeWFCLiQxGxNCJWABcDt0XEmyrrSDqp4us6\nkg7pSfXIVec3VG7WKJ9jlqX3nPvrrFt9IsWAw/mgGMkQF+8599cz2V/Tn1OQtFHSuvTreyTtlHQP\n8B7grZO9vxVX3NxQuVmjfI5Zlrbu6mXbz/ez4oQOXvRrx7HihA62/Xw/W3f1ZrK/ZtySSkRsBbam\n8xsqyj8EfKgZMZiZzUSbunpoy4mOOcmv6445rfQN5NnU1cPaU5ZM+v78RLOZ2TS2e18f7W3DO5Xb\n23Ls2deXyf6cFMzMprFlCzvoHxx++2n/YIGlCzsy2Z+TgpnZNLZ+zSoGC0HfQJ6I5HOwEKxfsyqT\n/TkpmJlNY2tPWcLGdaeyZP4x7O8fZMn8Y9i47tRM+hOgSR3NZmZ25NaesiSzJFDNLQUzMytzUjAz\nszJfPjIzm+au/u5Pue72h3lmoMC8OTkuPWdlZk80OymYmU1jV3/3p/zdbQ/RImhtSW5H/bvbHgLI\nJDH48pGZ2TR23e0PpwmhhRa1pJ/M2PcpmJnZBMya9ymYmdnEzab3KZiZ2QRdes5KCsWgf7BQngrF\nmHnvUzAzs4lbvXQB8+bkypeQWpS0ElYvXZDJ/nz3kZnZNLapq4clxx1THjob8NDZZmZHq2YPnT3j\nWgo/e6KPd33pLubkWpjb2kJbawtzckOfc1pbaMuJtnR+LPfsfiqtn24rl6xbKpuTa6GlutvfzKyJ\nli3soPfgoWEthSyHzs48KUjKAd3ALyLigqplc4HPAy8BngAuiohHxtregUODfGvHY5MS24X/8INx\n67S2qJws2spJJ00eFcmorSIhzakoa6tIXkOJpyWtU73N4clpeKKr2H5FWWuLkJy4zGar9WtW8Sc3\n3cMvnuqnUAxyLeLYua18+PwXZrK/ZrQU3gs8ABxXY9nbgX0R8TxJFwMfBy4aa2MnzJvDRZ3LGCwU\nOVwoMlgoMpgvMpBP5wuRlKffH3liYk2sfDHIFwv0D05oM5maU5FE2loq5iuS2dCkoYTVqmHJqzKp\nVdaf25oblhTnVHzWWq+0bG5r+qBNiyjlrVL6KiWyoe/Dy81siAACIgJCZPlTkmlSkLQUOB/4C+AD\nNapcCHw0nb8JuEaSIiJq1AXg1xa08/E3rK47hrFenr7zY79TTiYDhVJiiarv6fJ8kYFCJAmoomyw\nEDW2kUyH88lUWqd6Wb5YsW66rXy6ner7kscyUCgyUAAyephlonItoq1FtFYlqdackiTWKlrTZNaa\na6Gt1DorXQpsSedbkmQ31HorXTqsWK+UGFsrWmEtwy8rlhNcLkdbq8hJ5cuE5R+2ip+60o9gdWJL\nysb+8dzfN1heQcO2OXL9EQmyYk+1dqMaMdaKs3ofTsAzy6auHo5rb+PE49vLZVl2NGfdUvgU8KfA\n/FGWnwzsBoiIvKT9wAnAryorSboMuAxg+fLlkxbcvLmtzJs7aZubVIVijeSUDwYKBQbyUS4vJZHB\nQnA4X2AgX+TwYKHcihrIB4cHhyetgRGJLfmer0hwg4Uo18mn8/nCUNLMN5C1CsWgUAzIFzM8YkdO\nUE46rZXJKk0erVXJZFgCy439i/Uz3+8ZkYxaKxNjxeXJ1jTJlfbfWlG/JeNf4KO13JIyjSgbuf6R\nb+tIE/HwsuHrVVaoZxvV64+VhBuJbTIS8O59fSxobxtWNiM7miVdAPRGxDZJa0erVqNsxG+biNgM\nbAbo7Oxs4G/omSvXInItOY5py+apxYmISH7JD+SLHMoXOZwvlBPQQL5QbiENpMvyheBQmrDyhUiW\nFYoM5AtDLbPKVlq+yGAxSYKlllW+WGpFxVByKiatsHwxyoksX0z2MdhAaysgSZQATG5r65rvPTQp\n28m1aHgrq6V2wqpMbEmCaanRShvesmptGdmKqk5MbVXJclgCyyVj8bjlUZ/xElJlGcDiY+fyxDOH\naW8b+nV9aDDP4vlzeWx//6jr1kq29ciypfByYJ2k84BjgOMkfSEi3lRRZw+wDNgjqRU4Hngyw5hs\nEkiiNf3F0JFhSysiiIBiBMWAIPleKgvSz/Raa7Hyk6BQTkAFDueDw4OFNCkV0pZQIUk8xaEWUTm5\nlBJQcShZlerkSwkrTUDfuf+Xo/4bVpzQUb5MOJS8SttpvLV1aHD6t7ZGtIaGJZiK1lbrUHkpgbW2\nJH1T1S2oka20yr4ylRNldbJqyw1dmpwuSat0dbz8vz9yZpiLOpfxd7c9SESeY9paODSYnEtvfMky\n+jO4ZKwxLt9P3k6SlsKf1Lj76J3Af4uIy9OO5v8ZEW8ca1udnZ3R3d3d0P5r9Ss8ctX5DW3DZqdS\nEilWJCCoSETpJ+XkNJSMkrJk/uyrbhux7ds++Ipx911OFPkaCaiiBTQiaRWHLg8WisMv69VeZ3hS\nShLfKK2tQpHBYtJ/Npua5UnSGN7aKiWgJJmM3oIa2XIqJauRrbQRlwmHJT4Na71VJrDcGLe//6jn\nSW788W4eP9DPice1c/FLl3Hmqmc19O9/7pL52yKic9zj1NBWJ4GkjUB3RGwBPgv8s6SHSFoIF0/2\n/kbraF5xxc1ODIYkcoLcBO7nGO0ce9Xf/gcP/+V5I1owo7V2GKUFVPl9qHyoblZ/2JVirtWvNFAo\nlvu9al26G5Hc8mmiqdEiGywO3WCRH6WVlh+R9JJlhQZaW8mdhNO3tdUiRr10V0pCi46dC4Kv3r2H\nLTserbikNzIZVbe26tWUpBARW4Gt6fyGivJDwO82IwazqVBKOg1f2G1A5WW24QmlvstslXUr1w2S\nOrkWQdt4UUyNYsSI1lD199LNE/laSamYtLZKCa0y8VVf7hveShu+rVKSHEhvhy8Uo+HWVjFI++Ng\nsvu2GjHjnmg2s+Gk5DmQlgwTT7E4ssVC1fek1VI7SZUutZUSTdRIPkfS4mmRmNOqcUcvmCqlmzJK\nraHKZFJKQPmKZDIsqY1Yp1YrbXgra/h6FZcJC0V+VmfMTgpmNq7ScxwTucxWj/FaMiMurSX5pq7L\nbRNJPkdq6KYMYIrvJHzu/66vnpOCmU0bzbjcBmMnn8rkUXmTQc3LcDVaPqXLcJPpA1++m+17DpS/\nn7b0OD5x0emTuo8SJwUzO+o0u6+n3lZPrbp//IXuYQkBYPueA3zgy3dnkhicFMzMMjBZfT137d5f\ns3z7ngOsXDSv/rvb6uSkYGY2Q2XR4pmeXfZmZjYlxm0pSKo1uul+YFtEbJ/8kMzMrOSslQv5z4f3\n1SzPQj0thU7gcpIRTU8mGa10LfAZSX+aSVRmZgbADevPHpEAzlq5kBvWn53J/urpUzgBOCMingaQ\n9BGSdx+sAbYBf5VJZGZmBpBZAqilnpbCckhHFU4MAs+JiH7gcCZRmZnZlKinpfAl4A5J30i/vxa4\nQdI84P7MIjMzs6YbNylExJ9LuoXk/QgCLo+I0tjVv59lcGZmBpds+uGwzuYs+xTqvSX1buBfgK8C\nvZIm752YZmY2quqEAPCfD+/jkk0/zGR/9dyS+m7gI8AvScZzFckYVKszicjMzMpq3Y46VvlE1dOn\n8F7gBRHxRCYRmJnZtFHP5aPdJA+rmZnZLFdPS6EH2CrpZipuQY2IT4y1kqRjgC5gbrqfmyLiI1V1\n3gr8NfCLtOiaiLiu7ujNzGa5Zj/RXE9S+Hk6zUmneh0GXhURT0tqA26XdEtE3FFV78sR8a4Gtmtm\nZhmp55bUjx3JhiN5vdHT6de2dGreK4/MzGaBadPRLOlTEfE+Sd+kxi/ziFg33sYl5UiGwnge8A8R\ncWeNaq+XtAb4KfD+iNhdYzuXkYy5xPLlvhvWzCwrY7UU/jn9/Jsj3XhEFIDTJC0AvibpRRFxX0WV\nbwI3RMRhSZcD1wOvqrGdzcBmgM7OTrc2zMwyMurdRxGxLZ09LSL+o3ICTmtkJxHxFLAVeHVV+RMR\nUeq8/gzwkka2a2Y2243WoTyVQ2e/pUbZW8dbSdLitIWApHbgXGBXVZ2TKr6uAx6oI56GPHLV+Q2V\nmzXK55hlqdlDZytGeXmnpEuA3wPOAb5fsWg+UIiIc8fcsLSa5HJQjiT5fCUiNkraCHRHxBZJf0mS\nDPLAk8A7ImLXqBsluXzU3d09VpVhVlxx86jL/ENrk8HnmM0EkrZFROd49cbqU/gh8BiwCPjbivKD\nwI7xNhwRO4DTa5RvqJj/EPCh8bZlZmbNMWpSiIifAT8DzmpeOGZmNpXG7VOQ9DJJP5b0tKQBSQVJ\nB5oRnJmZNVc9Hc3XAJcADwLtwKXA32cZlJmZTY16hrkgIh6SlEufO/gnSdkM5G1mZlOqnqTQJ2kO\nsF3SX5F0Ps/LNiwzM5sK9Vw+enNa713AM8Ay4PVZBmVmZlOjngHxfpbOHgI+BiDp5cBDGcZlZmZT\nYKwB8XLAG4GTgX+LiPskXQD8GUmH84hnEMzMbPK9/8a72LLjcQrFINci1q0+kU9efEYm+xqrpfBZ\nkktFPwKullR6ZuGKiPh6JtGYmdkw77/xLr62/bHy90Ix0u93ZZIYxkoKncDqiCimb1H7FfC8iHh8\n0qMwM7OatuxIfuVKQ2URSfknL578/Y3V0TwQEcUkgDgE/NQJwcysuQrF2uPTjVY+UWO1FE6RVBrj\nSMBz0+8iebHa6kwiMjOzslyLaiaAXItq1J64sZLCb2SyRzMzq9u61Sfyte2PUT2g9brVJ2ayv/EG\nxDMzsymUdCZPj7uPzMxsGvjkxWdk0qlcSz1PNJuZ2VHCScHMzMrGeqL5XqDWPU913X2UPtvQBcxN\n93NTRHykqs5c4PPAS4AngIsi4pFG/gFmZrPd1l29bOrqYfe+PpYt7GD9mlWsPWVJJvsaq0/hgglu\n+zDwqoh4WlIbcLukWyLijoo6bwf2RcTzJF0MfBy4aIL7NTObNbbu6mXDlp205cSC9jZ6Dx5iw5ad\nbIRMEkNmdx9FRABPp1/b0qm65XEh8NF0/ibgGklK1zUzO+pt6uqhLSc65iS/rjvmtNI3kGdTV08m\nSWHUPgVJByUdqDEdrPd1nJJykrYDvcCtEXFnVZWTgd0AEZEH9gMn1NjOZZK6JXXv3bu33n+bmdmM\nt3tfH+1tuWFl7W059uzry2R/oyaFiJgfEcfVmOZHxHH1bDwiChFxGrAUOFPSi6qq1Hokb0QrISI2\nR0RnRHQuXry4nl2bmc0KyxZ20D9YGFbWP1hg6cKOTPZX991HkpZIWl6aGtlJRDwFbAVeXbVoD8lI\nrEhqBY4Hnmxk22Zms9n6NavY3z/Ig70H2fX4AR7sPcj+/kHWr1mVyf7GTQqS1kl6EHgY+A/gEeCW\nOtZbLGlBOt8OnAvsqqq2BXhLOv8G4Db3J5iZDSeAgIiAqH2JZbLU80TznwMvA74bEadLeiVwSR3r\nnQRcn76spwX4SkR8S9JGoDsitpC8s+GfJT1E0kJo0jN7ZmYzw6auHo5rb+PE49vLZVl2NNeTFAYj\n4glJLZJaIuJ7kj4+3koRsYMab2eLiA0V84eA320oYjOzo8jufX0saG8bVpZlR3M9SeEpSceSPIj2\nRUm9QD6TaMzMbJhlCzvoPXiofEsqTH1H84VAH/B+4N+A/wJem0k0ZmY2zPo1qxgsBH0DeSKSz8FC\nTE1Hc9of8I2IKEZEPiKuj4irI+KJTKLJwCNXnd9QuVmjfI5ZltaesoSN605lyfxj2N8/yJL5x7Bx\n3amZDXOh8W72kbQFeHNE7M8kggZ1dnZGd3d33fVXXHHzqMv8Q2uTweeYzQSStkVE53j16ulTOATc\nK+lW4JlSYUS8ZwLxmZnZNFRPUrg5nczMbJYbNylExPXpw2fLI+InTYjJzMymSD1PNL8W2E5y5xGS\nTkv7GczMbJap55bUjwJnAk8BRMR2YGWGMZnNKKP9EPm1hjYT1XPe5mvceeTxicxSxQbLzaazejqa\n75P0e0BO0vOB9wA/zDYsMzObCvW0FN4NnEryes0vkbwI531ZBmVmZlOjnpbCCyLiSuDKrIMxm4la\nqH2pyH0KNlm27uplU1cPu/f1sWxhB+vXrMrsieZ6zttPSNol6c8lnZpJFGYzmPsULEtbd/WyYctO\neg8eYkF7G70HD7Fhy0627urNZH/jJoWIeCWwFtgLbJZ0r6T/k0k0ZmY2zKauHtpyomNOK1Ly2ZYT\nm7p6MtlfXS3ciHg8Iq4GLid5ZmHDOKuYmdkk2L2vj/a23LCyLN+nUM/Da78h6aOSdgLXkNx5tDST\naMzMbJhlCzvoHywMK5vq9yn8E7AP+O8R8YqI+HREjHsxS9IySd+T9ICknZLeW6POWkn7JW1PJ7dA\nzMwqrF+ziv39gzzYe5Bdjx/gwd6D7O8fzOx9CvXcffRK4LnAQklPpq/QrEce+GBE3CVpPrBN0q0R\ncX9Vve9HxAUNxGxmdlQRQEBEQCj5npFRk4KkVuD/AW8Dfk7Sqlgq6Z+AKyNicKwNR8RjwGPp/EFJ\nDwAnA9VJwczMRrGpq4fj2ts48fj2clnfQJ5NXT2Z3JY61uWjvwaeBayKiJdExOkkLYYFwN80shNJ\nK4DTgTtrLD5L0j2SbhntlldJl0nqltS9d+/eRnZtZjajTaeO5guAP4qIg6WCiDgAvAM4r94dSDoW\n+Ffgfen6le4CnhMRLwb+Hvh6rW1ExOaI6IyIzsWLF9e7azOzGW86dTRH1HhXZ0QUqHNAPEltJAnh\nixHx1RrbOhART6fz3wbaJC2qK3Izs6PA+jWrGCwEfQN5IpLPwUJk1tE8VlK4X9IfVBdKehOwa7wN\nSxLwWeCBiPjEKHVOTOsh6cw0nifqCdxsulh6/NyGys0asfaUJWxcdypL5h/D/v5Blsw/ho3rTs1s\nmIux7j56J/BVSX8IbCNpHbwUaAdeV8e2Xw68meT9ztvTsj8DlgNExLXAG4B3SMoD/cDFtVonZtPZ\nnv2HGyo3a9TaU5ZklgSqjZoUIuIXwG9KehXJKKkCbomIf69nwxFxe7rOWHWuIXkgzszMpoF63tF8\nG3BbE2IxM7Mp5tF9zSbIfQo2m8z6pPDIVec3VG7WqNs/dG5D5WbT2axPCiuuuLmhcrNGveDK2ufS\naOVm09msTwpmWTtcaKzcbDpzUjAzszInBTMzK6tn6GwzG8PcXO1LRXNzI8vMjsTWXb1s6uph974+\nli3sYP2aVZk9zOaWgtkELT629q2no5WbNWLrrl42bNlJ78FDLGhvo/fgITZs2cnWXeO+6+yIOCmY\nTZCHubAsberqoS0nOua0IiWfbTmxqasnk/05KZiZTWPT6X0KZmY2xabT+xTMrA4e5sKyNJ3ep2Bm\ndfi/r1tNS9V4wC1Kys0majq9T8HM6rCpq4eVi+bRMWfoxynLF6vb0aeZ71NwS8FsgprdEWiWpcyS\ngqRlkr4n6QFJOyW9t0YdSbpa0kOSdkg6I6t4zLLS7I5AsyxlefkoD3wwIu6SNB/YJunWiLi/os5r\ngOen028Cn04/zWaM9WtW8bbP/ZjK98gK+PD5L5yqkMyOWGYthYh4LCLuSucPAg8AJ1dVuxD4fCTu\nABZIOimrmMyy8MGv3E31i8UjLTebaZrSpyBpBXA6cGfVopOB3RXf9zAycZhNa0/05RsqN5vOMk8K\nko4F/hV4X0QcqF5cY5XqP7qQdJmkbknde/fuzSJMMzMj46QgqY0kIXwxIr5ao8oeYFnF96XAo9WV\nImJzRHRGROfixYuzCdbMzLLraJYk4LPAAxHxiVGqbQHeJelGkg7m/RHxWFYxmWXhhI7WmpeKTujw\nY0A2OZo5dHaWZ+3LgTcD90ranpb9GbAcICKuBb4NnAc8BPQBb8swHrNM7O+v3XcwWrlZI0pDZ7fl\nNGzo7I2QSWLILClExO3U7jOorBPAO7OKwawZ8iN6wcYuN2tE5dDZAB1zWjN9Yt5PNJuZTWMeOtvM\nzMo8dLbZDNM6ykXS0crNGuGhs81mmJeuWNhQuVkjPHS22Qzznw/va6jcrFEeOtvMzKaEk4KZmZU5\nKZhN0Fkra/cdjFZuNp3N+qTwyFXnN1Ru1qgb1p/NKc+eN6zslGfP44b1Z09RRDbbbN3VyyWb7+Cc\nj9/GJZvvYOuu3sz2NeuTwoorbm6o3KxRW3f10jcYPHfxPF70a8fx3MXz6BuMTH9w7ehRGuai9+Ch\nYcNcZHV+zfqkYJa1ymEIpOSzLSc2dfVMdWg2CzT7/HJSMJugZg9DYEcXD3NhNsM0exgCO7p4mAuz\nGWb9mlUc6B/kwV8e5IHH9vPgLw9yoH8ws2EI7OjiYS7MZqAAEEgC1XinrNkR8jAXZjPMpq4ejm9v\n46Tj28tlWY53b0cfD3NhNoO4o9lmk8ySgqR/lNQr6b5Rlq+VtF/S9nTakFUsZllyR7PNJllePvoc\ncA3w+THqfD8iLsgwBrPMrV+zinffcBfPDBQoBrQI5s3J8eHzXzjVodkssXVXL5u6eti9r49lCztY\nv2ZVZpeTMmspREQX8GRW26+Xx6WxrO3Y81Q5IQAUA54ZKLBjz1NTG5jNCkfbE81nSbpH0i2STs1i\nBx7r3rJ23e0Pk2sR7W258pRrEdfd/vBUh2azwNH0RPNdwHMi4sXA3wNfH62ipMskdUvq3rt3b9MC\nNKvHMwMFWqpevdmipNxsoo6aJ5oj4kBEPJ3Ofxtok7RolLqbI6IzIjoXL17c1DjNxjNvTq586aik\nGEm52UQdNU80SzpRktL5M9NYnpjs/bhPwbJ26TkrKQbki0WKUUw/k3KziWr2E82Z3X0k6QZgLbBI\n0h7gI0AbQERcC7wBeIekPNAPXBwRk/4gqPsULGvvOffXgaRv4ZmBAvPm5Lj0nJXlcrOJWHvKEjaS\n9C3s2dfH0ozvPlIGv4cz1dnZGd3d3XXXH+u9CX7RjpkdLSRti4jO8epN9d1HZmY2jTgpmJlZmZOC\nmZmVzfqkcOyc2v/E0crNzI5ms/4349MDxYbKzcyOZrM+KZiZWf2cFMzMrGzWJwX3KZiZ1W/W/2a8\nb+NrRvwjW9JyMzMbbtYnhfffeBfVXcrFtNzMzIab9Ulhy47HAZCGpspyMzMbMuuTQqF6TONxys3M\njmazPinkqt9+Mk65mdnRbNYnhXWrTwQgYmiqLDczsyGzPil88uIzeN1pJ5VbBrkW8brTTuKTF58x\nxZGZmU0/s/59CmZm5vcpmJnZEcgsKUj6R0m9ku4bZbkkXS3pIUk7JPl6jpnZFMuypfA54NVjLH8N\n8Px0ugz4dIaxmJlZHTJLChHRBTw5RpULgc9H4g5ggaSTsorHzMzGN5V9CicDuyu+70nLzMxsirRO\n4b5rPT1W81YoSZeRXGICeFrST45wn4uAXx3hulmarnHB9I3NcTXGcTVmNsb1nHoqTWVS2AMsq/i+\nFHi0VsWI2AxsnugOJXXXc0uATwyPAAAHLklEQVRWs03XuGD6xua4GuO4GnM0xzWVl4+2AH+Q3oX0\nMmB/RDw2hfGYmR31MmspSLoBWAsskrQH+AjQBhAR1wLfBs4DHgL6gLdlFYuZmdUns6QQEZeMszyA\nd2a1/1FM+BJURqZrXDB9Y3NcjXFcjTlq45pxw1yYmVl2PMyFmZmVzZqkIOnVkn6SDptxRY3lcyV9\nOV1+p6QVFcs+lJb/RNLvNDmuD0i6Px3q498lPadiWUHS9nTa0uS43ippb8X+L61Y9hZJD6bTW5oc\n1ycrYvqppKcqlmV5vI542JaMj9d4cf1+Gs8OST+U9OKKZY9Iujc9XpM6ymQdca2VtL/i/2tDxbIx\nz4GM4/pfFTHdl55Tz0qXZXK8JC2T9D1JD0jaKem9Neo07/yKiBk/ATngv4BVwBzgHuCFVXX+GLg2\nnb8Y+HI6/8K0/lxgZbqdXBPjeiXQkc6/oxRX+v3pKTxebwWuqbHus4Ce9HNhOr+wWXFV1X838I9Z\nH69022uAM4D7Rll+HnALyfM3LwPuzPp41RnX2aX9kQwtc2fFskeARVN0vNYC35roOTDZcVXVfS1w\nW9bHCzgJOCOdnw/8tMbPY9POr9nSUjgTeCgieiJiALiRZBiNShcC16fzNwG/JUlp+Y0RcTgiHia5\nG+rMZsUVEd+LiL706x0kz2tkrZ7jNZrfAW6NiCcjYh9wK2OPcZVlXJcAN0zSvscURz5sS5bHa9y4\nIuKH6X6heedXPcdrNBM5Nyc7rqacXxHxWETclc4fBB5g5OgOTTu/ZktSqGfIjHKdiMgD+4ET6lw3\ny7gqvZ3kr4GSYyR1S7pD0v+YpJgaiev1aVP1JkmlBw2nxfFKL7OtBG6rKM7qeNVjtNin03Au1edX\nAN+RtE3JqAHNdpakeyTdIunUtGxaHC9JHSS/XP+1ojjz46XksvbpwJ1Vi5p2fk3lE82TqZ4hM0ar\nU/dwG0egkaE83gR0Aq+oKF4eEY9KWgXcJuneiPivJsX1TeCGiDgs6XKSVtar6lw3y7hKLgZuiohC\nRVlWx6seU3F+1U3SK0mSwjkVxS9Pj9cS4FZJu9K/pJvhLuA5EfG0pPOAr5OMmDwtjhfJpaMfRERl\nqyLT4yXpWJIk9L6IOFC9uMYqmZxfs6WlUM+QGeU6klqB40makXUPt5FRXEg6F7gSWBcRh0vlEfFo\n+tkDbCX5C6IpcUXEExWxfAZ4Sb3rZhlXhYupatpneLzqMVrsWR6vukhaDVwHXBgRT5TKK45XL/A1\nJu+y6bgi4kBEPJ3Ofxtok7SIaXC8UmOdX5N+vCS1kSSEL0bEV2tUad75NdmdJlMxkbR4ekguJ5Q6\np06tqvNOhnc0fyWdP5XhHc09TF5Hcz1xnU7Ssfb8qvKFwNx0fhHwIJPU4VZnXCdVzL8OuCOGOrYe\nTuNbmM4/q1lxpfVeQNLpp2Ycr4p9rGD0jtPzGd4R+KOsj1edcS0n6Sc7u6p8HjC/Yv6HwKubGNeJ\npf8/kl+uP0+PXV3nQFZxpctLfzDOa8bxSv/dnwc+NUadpp1fk3agp3oi6Z3/Kckv2CvTso0kf30D\nHAP8S/oD8iNgVcW6V6br/QR4TZPj+i7wS2B7Om1Jy88G7k1/KO4F3t7kuP4S2Jnu/3vAKRXr/mF6\nHB8C3tbMuNLvHwWuqlov6+N1A/AYMEjy19nbgcuBy9PlAv4hjfteoLNJx2u8uK4D9lWcX91p+ar0\nWN2T/j9f2eS43lVxft1BRdKqdQ40K660zltJbj6pXC+z40VySS+AHRX/T+dN1fnlJ5rNzKxstvQp\nmJnZJHBSMDOzMicFMzMrc1IwM7MyJwUzMytzUjCbRJK2ShrzHbqSrpP0wmbFZNaI2TLMhdmMERGX\njl/LbGq4pWCWkvQmST9Kx8vfJOk56Rj1iyS1SPq+pN+WtELSLknXVwwY2FFje59OB+jbKeljFeXl\n1oSkpyX9RTow3B2Snt3Mf7NZNScFM0DSbwAXkQx6dhpQIBmc8OPAtcAHgfsj4jvpKi8ANkfEauAA\nyfs6ql0ZEZ3AauAV6RhE1eaRDCHyYqAL+KNJ/GeZNcxJwSzxWySD/v1Y0vb0+6qIuI7kxSeXA39S\nUX93RPwgnf8Cw0cfLXmjpLuAu0nG2KrVjzAAfCud30YyLo/ZlHGfgllCwPUR8aFhhcllodKLaY4F\nDqbz1ePDDPsuaSVJEnlpROyT9DmS8beqDcbQWDMF/DNpU8wtBbPEvwNvSMfKR9Kz0hf5fBz4IrCB\nZAjxkuWSzkrnLwFur9reccAzwP60n+A1WQZvNln8V4kZEBH3S/o/JG/WaiEZRfMDwEtJ+hkKkl4v\n6W0ko8Y+ALxF0iaSYbo/XbW9eyTdTTKiZg/wA8xmAI+Satag9JWJ34qIF01xKGaTzpePzMyszC0F\nMzMrc0vBzMzKnBTMzKzMScHMzMqcFMzMrMxJwczMypwUzMys7P8DQ3uJ0SfrS+8AAAAASUVORK5C\nYII=\n",
      "text/plain": [
       "<matplotlib.figure.Figure at 0x29e837a5c88>"
      ]
     },
     "metadata": {},
     "output_type": "display_data"
    }
   ],
   "source": [
    "sns.regplot(x=X_vec['explain'], y=Reviews_df['Overall Rating'])"
   ]
  },
  {
   "cell_type": "code",
   "execution_count": 126,
   "metadata": {},
   "outputs": [
    {
     "name": "stdout",
     "output_type": "stream",
     "text": [
   ],
   "source": [
    "for j in Reviews_df.index:\n",
    "    temp=re.finditer(r'explain',Reviews_df.loc[j]['Full Review Stem'])\n",
    "    if temp != []:\n",
    "        for match in temp:\n",
    "            print(Reviews_df.loc[j]['Full Review'][match.start()-20:match.start()+8+20])"
   ]
  },
  {
   "cell_type": "code",
   "execution_count": 361,
   "metadata": {},
   "outputs": [
    {
     "data": {
      "text/plain": [
       "<matplotlib.axes._subplots.AxesSubplot at 0x29e85e9a240>"
      ]
     },
     "execution_count": 361,
     "metadata": {},
     "output_type": "execute_result"
    },
    {
     "data": {
      "image/png": "iVBORw0KGgoAAAANSUhEUgAAAYUAAAEKCAYAAAD9xUlFAAAABHNCSVQICAgIfAhkiAAAAAlwSFlz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\n6P8DTEo5ZE1facIAAAAASUVORK5CYII=\n",
      "text/plain": [
       "<matplotlib.figure.Figure at 0x29e8b102748>"
      ]
     },
     "metadata": {},
     "output_type": "display_data"
    }
   ],
   "source": [
    "sns.regplot(x=X_vec['write'], y=Reviews_df['Overall Rating'], fit_reg=False)#, x_estimator=np.mean)#'confusing'"
   ]
  },
  {
   "cell_type": "code",
   "execution_count": 133,
   "metadata": {},
   "outputs": [
    {
     "name": "stdout",
     "output_type": "stream",
     "text": [
   ],
   "source": [
    "for j in Reviews_df.index:\n",
    "    temp=re.finditer(r'write',Reviews_df.loc[j]['Full Review Stem'])\n",
    "    if temp != []:\n",
    "        for match in temp:\n",
    "            print(Reviews_df.loc[j]['Full Review'][match.start()-20:match.start()+8+20])"
   ]
  },
  {
   "cell_type": "code",
   "execution_count": 326,
   "metadata": {},
   "outputs": [
    {
     "data": {
      "text/plain": [
       "<matplotlib.axes._subplots.AxesSubplot at 0x29e80b5ce10>"
      ]
     },
     "execution_count": 326,
     "metadata": {},
     "output_type": "execute_result"
    },
    {
     "data": {
      "image/png": "iVBORw0KGgoAAAANSUhEUgAAAYUAAAEKCAYAAAD9xUlFAAAABHNCSVQICAgIfAhkiAAAAAlwSFlz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\nzf8HiVYGuXQQ5gAAAAAASUVORK5CYII=\n",
      "text/plain": [
       "<matplotlib.figure.Figure at 0x29e83730160>"
      ]
     },
     "metadata": {},
     "output_type": "display_data"
    }
   ],
   "source": [
    "sns.regplot(x=X_vec['offic'], y=Reviews_df['Overall Rating'], fit_reg=False)#people really like office hours"
   ]
  },
  {
   "cell_type": "code",
   "execution_count": 362,
   "metadata": {},
   "outputs": [
    {
     "data": {
      "text/plain": [
       "<matplotlib.axes._subplots.AxesSubplot at 0x29e800eea90>"
      ]
     },
     "execution_count": 362,
     "metadata": {},
     "output_type": "execute_result"
    },
    {
     "data": {
      "image/png": "iVBORw0KGgoAAAANSUhEUgAAAXwAAAEKCAYAAAARnO4WAAAABHNCSVQICAgIfAhkiAAAAAlwSFlz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\nRUQiQglfRCQi/j8BdH6zjgDsPQAAAABJRU5ErkJggg==\n",
      "text/plain": [
       "<matplotlib.figure.Figure at 0x29e878cfcc0>"
      ]
     },
     "metadata": {},
     "output_type": "display_data"
    }
   ],
   "source": [
    "sns.regplot(x=X_vec['respect'], y=Reviews_df['Overall Rating'])#being respectful is important"
   ]
  },
  {
   "cell_type": "code",
   "execution_count": 168,
   "metadata": {},
   "outputs": [
   ],
   "source": [
    "for j in Reviews_df.index:\n",
    "    temp=re.finditer(r'respect',Reviews_df.loc[j]['Full Review Stem'])\n",
    "    if temp != []:\n",
    "        for match in temp:\n",
    "            print(Reviews_df.loc[j]['Full Review'][match.start()-20:match.start()+8+20])"
   ]
  },
  {
   "cell_type": "code",
   "execution_count": 363,
   "metadata": {},
   "outputs": [
    {
     "data": {
      "text/plain": [
       "<matplotlib.axes._subplots.AxesSubplot at 0x29e80188cf8>"
      ]
     },
     "execution_count": 363,
     "metadata": {},
     "output_type": "execute_result"
    },
    {
     "data": {
      "image/png": "iVBORw0KGgoAAAANSUhEUgAAAYUAAAEKCAYAAAD9xUlFAAAABHNCSVQICAgIfAhkiAAAAAlwSFlz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\nYII=\n",
      "text/plain": [
       "<matplotlib.figure.Figure at 0x29e83b69630>"
      ]
     },
     "metadata": {},
     "output_type": "display_data"
    }
   ],
   "source": [
    "sns.regplot(x=X_vec['tough'], y=Reviews_df['Overall Rating'], fit_reg=False)#being tough, on its own, is not bad"
   ]
  },
  {
   "cell_type": "code",
   "execution_count": 329,
   "metadata": {},
   "outputs": [
    {
     "data": {
      "text/plain": [
       "<matplotlib.axes._subplots.AxesSubplot at 0x29e8299f358>"
      ]
     },
     "execution_count": 329,
     "metadata": {},
     "output_type": "execute_result"
    },
    {
     "data": {
      "image/png": "iVBORw0KGgoAAAANSUhEUgAAAYUAAAEKCAYAAAD9xUlFAAAABHNCSVQICAgIfAhkiAAAAAlwSFlz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\nU1IQEZE0JQUREUn7/wWQtI07G8bkAAAAAElFTkSuQmCC\n",
      "text/plain": [
       "<matplotlib.figure.Figure at 0x29e86083cc0>"
      ]
     },
     "metadata": {},
     "output_type": "display_data"
    }
   ],
   "source": [
    "sns.regplot(x=X_vec['hilari'], y=Reviews_df['Overall Rating'])#'hilarious' jokes are good"
   ]
  },
  {
   "cell_type": "code",
   "execution_count": 365,
   "metadata": {},
   "outputs": [
    {
     "data": {
      "text/plain": [
       "<matplotlib.axes._subplots.AxesSubplot at 0x29e80a90898>"
      ]
     },
     "execution_count": 365,
     "metadata": {},
     "output_type": "execute_result"
    },
    {
     "data": {
      "image/png": "iVBORw0KGgoAAAANSUhEUgAAAYUAAAEKCAYAAAD9xUlFAAAABHNCSVQICAgIfAhkiAAAAAlwSFlz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\nioKIiERUFEREJKKiICIiERUFERGJ/H8tl8qp7nDQpgAAAABJRU5ErkJggg==\n",
      "text/plain": [
       "<matplotlib.figure.Figure at 0x29e8561c908>"
      ]
     },
     "metadata": {},
     "output_type": "display_data"
    }
   ],
   "source": [
    "sns.regplot(x=X_vec['clear grade'], y=Reviews_df['Overall Rating'], x_estimator=np.mean)#having a clear grading scheme is important"
   ]
  },
  {
   "cell_type": "code",
   "execution_count": 339,
   "metadata": {},
   "outputs": [
    {
     "data": {
      "text/plain": [
       "<matplotlib.axes._subplots.AxesSubplot at 0x29e800db0f0>"
      ]
     },
     "execution_count": 339,
     "metadata": {},
     "output_type": "execute_result"
    },
    {
     "data": {
      "image/png": "iVBORw0KGgoAAAANSUhEUgAAAYsAAAEKCAYAAADjDHn2AAAABHNCSVQICAgIfAhkiAAAAAlwSFlz\nAAALEgAACxIB0t1+/AAAADl0RVh0U29mdHdhcmUAbWF0cGxvdGxpYiB2ZXJzaW9uIDIuMS4wLCBo\ndHRwOi8vbWF0cGxvdGxpYi5vcmcvpW3flQAAIABJREFUeJzt3X+UXWV97/H3ZyaTH+ZHSchIaYYw\nUGiEoBKYKt5oRQShMQbv0q4goohYShcihbpoudwLNeotxRap1Vul1JRV0ES5/ogpmKJAewmiTCBA\nfoiEEJN0MBkSIZMhP+bH9/5x9oE945nZJ2H22cmZz2uts845z97nPM/JwPmc/TzP3o8iAjMzs+E0\nFN0AMzM79DkszMwsk8PCzMwyOSzMzCyTw8LMzDI5LMzMLJPDwszMMjkszMwsk8PCzMwyjSm6ASNl\n+vTp0draWnQzzMwOK6tWrXohIpqz9qubsGhtbaW9vb3oZpiZHVYk/bKa/dwNZWZmmRwWZmaWyWFh\nZmaZHBZmZpbJYWFmZpkcFmZmlslhYWZmmRwWZmaWyWFhZnYQuvZ1cftjt/MX9/0Ftz92O137unKt\nLyL44ZpfERFVlY+0ujmD28ysVh7a/BDz7ppHf/TT3dPNxKaJXLPiGu758D28febbc6lzxdptXH7n\nKi6Z28oN809GEhHBouXrWLxyE1+96HTOO+W3c6kbfGRhZnZAuvZ1Me+ueXTt76K7pxuA7p5uuvaX\nynfv351LvefOPopL5rayeOUmFi1fNyAoLpnbyrmzj8ql3jIfWZiZHYCla5fSH/0Vt/VHP0vXLOXS\n0y4d8XolccP8kwFYvHITi1duAhhwpJEnH1mYmR2AZ3Y888oRxWDdPd1s2Lkht7rTgVFWi6AAh4WZ\n2QE58cgTmdg0seK2iU0TOWHaCbnVXe56Sit3SeUt97CQ1CjpcUnLK2z7oqTVye0Xkl5MbetLbVuW\ndzvNzKqxcPZCGlT5q7NBDSw8ZWEu9Q4eo3jur+f9xhhGnmoxZnEVsB6YMnhDRFxdfizpSmBOavOe\niDg1/+aZmVVv8rjJ3PPhe35jNlSDGrjnw/cwaeykXOpdsXbbK0FR7npKj2G89bgjc50NpTzTSFIL\ncAfweeCaiJg/zL4PAzdGxH3J890RUfW/eltbW3jxIzOrld37d7N0zVI27NzACdNOYOEpC3MLCigd\nWaxYu41zZx81YIxiqPJqSVoVEW1Z++V9ZHErcC0webidJB0LHAfcnyoeL6kd6AVuiojv5dZKM7MD\nNGnspFxmPQ1FUsUjh6HKR1puYxaS5gPbI2JVFbtfANwdEX2psplJ2l0I3CrpdyvUcZmkdkntnZ2d\nI9NwMzP7DXkOcM8FFkjaBCwBzpJ05xD7XgB8M10QER3J/UbgQQaOZ5T3uS0i2iKirbk5c71xMzM7\nSLmFRURcFxEtEdFKKQzuj4iLBu8naRYwFfhJqmyqpHHJ4+mUgmfd4NeamVlt1PwMbkmLgPaIKE+H\n/RCwJAaOtJ8EfE1SP6VAuykiHBZmZgXJdTZULXk2lJnZgTtUZkOZmeXuim88xsbObo5vnshXLjyt\n6ObUJYeFmR32NnZ2s/75XUU3o6752lBmZpbJYWFmZpkcFmZmlslhYWZmmRwWZmaWyWFhZmaZHBZm\nZpbJYWFmZpkcFmZmlslhYWZmmRwWZmaWyWFhZmaZHBZmZpbJYWFmZpkcFmZmlslhYWZmmRwWZmaW\nyWFhZmaZcg8LSY2SHpe0vMK2j0nqlLQ6uX0ite1iSc8kt4vzbqeZmQ2tFmtwXwWsB6YMsX1pRHwy\nXSBpGnAj0AYEsErSsoj4da4tNTOzinI9spDUArwXuP0AX3oucF9E7EwC4j7gvJFun5mZVSfvbqhb\ngWuB/mH2+YCkJyXdLemYpGwGsCW1z9akzMzMCpBbWEiaD2yPiFXD7PYDoDUi3gT8CLij/PIK+0aF\nOi6T1C6pvbOz8zW32cwOHxHBD9f8ioioqtxemzyPLOYCCyRtApYAZ0m6M71DROyIiH3J038CTk8e\nbwWOSe3aAnQMriAibouItohoa25uHun2m9khbMXabVx+5yoWLV/Hq78lg0XL13H5natYsXZbkc2r\nO7mFRURcFxEtEdEKXADcHxEXpfeRdHTq6QJKA+EAK4D3SJoqaSrwnqTMzAyAc2cfxSVzW1m8chPb\ndu0FYNuuvSxeuYlL5rZy7uyjCm5hfanFbKgBJC0C2iNiGfApSQuAXmAn8DGAiNgp6bPAo8nLFkXE\nzlq31cwOXZK4Yf7JACxeuQmAnd09XDK3lRvmn4xUqTfbDpbqpV+vra0t2tvbi26GmdVYRHDcdfe8\n8vy5v57noDgAklZFRFvWfj6D28wOWxGRjFm8atHydR7czkHNu6HMzEZCOSgWr9zESxNuprt/CxMb\njmHxymsB3BU1wnxkYWaHpRVrt70ymN3X0EFPw3P0NXS8Mujt2VAjy0cWZnZYOnf2UXz1otM5d/ZR\n/N3qV8tvmH8ybz3uSM+GGmEOCzM7LEnivFN+u+pye23cDWVmZpkcFmZmlslhYWZmmRwWZmaWyWFh\nZmaZHBZmZpbJYWFmZpkcFmZmlslhYWZmmRwWZmaWyWFhZnYARuva3w4LM7MDkF77uxwM5cul1/Pa\n376QoJnZAUiv/Q2lq9yW19Wo57W/HRZmZgdg8Nrf5dCo97W/3Q1lZnaA0oFRVs9BAQ4LM7MDNhrX\n/s7shpJ0TYXil4BVEbG6wrbBr28E2oH/ioj5Fd77E0Av0Al8PCJ+mWzrA55Kdt0cEQuy6jIzy1t6\n7e9y11P5OdTvEUY1YxZtye0HyfP3Ao8Cl0v6dkTcnPH6q4D1wJQK2x4H2iLiZUl/CtwMLEy27YmI\nU6ton5lZzaTX/i4HQ3oM463HHVmXK/VVExZHAqdFxG4ASTcCdwN/AKyi9AVfkaQWSuHyeeA3jlAi\n4oHU00eAi6puuZkN64pvPMbGzm6Ob57IVy48rejm1I302t/lI4hyYNTz2t/VjFnMBPannvcAx0bE\nHmBfxmtvBa4F+quo51Lg3tTz8ZLaJT0i6f2VXiDpsmSf9s7OziqqMBs9NnZ2s/75XWzs7C66KXWl\nvMb34K6mocrrRTVHFt8AHpH0/eT5+4BvSpoIrBvqRZLmA9sjYpWkM4erQNJFlLq63pkqnhkRHZKO\nB+6X9FREPJt+XUTcBtwG0NbWVr8jS2ZmBcsMi4j4rKR7gbmAgMsjoj3Z/OFhXjoXWCBpHjAemCLp\nzogY0NUk6WzgeuCdEfHKkUpEdCT3GyU9CMwBBoSFmZnVRrVTZx8Hvg18B9guaWbWCyLiuohoiYhW\n4ALg/gpBMQf4GrAgIranyqdKGpc8nk4peIY8ijGzQ8PCuxdy6ldPZeHdC7N3tsNKNVNnrwRuBLYB\nfZSOLgJ408FUKGkR0B4Ry4AvAJOAbyf9fOUpsicBX5PUTynQbooIh4XZIe7pF57miW1PFN0My0E1\nYxZXAbMiYsfBVhIRDwIPJo9vSJWfPcT+DwNvPNj6zMxsZFXTDbWF0kl4ZmY2SlVzZLEReFDSv5Ga\nKhsRt+TWKjMzO6RUExabk9vY5GZmZqNMNVNnP1OLhpiZ2aFryLCQdGtE/JmkH1Ca/TSAL+xnZjZ6\nDHdk8a/J/d/WoiFm9tpFBCvWbvuN6xOly/O8HMXWX+8ZcG/1Y8jZUBGxKnl4akT8R/oG+GqwZlW6\n4huP8Yd///+44huP5V5Xen3oVzsEarc+9P7e/gH3Vj+qmTp7cYWyj41wO8zqVi0v6JdeH3rbrr0A\nbNu1t+7Xh7b8DTdm8SHgQuA4SctSmyYDB32CnpnlZ/DaCgA7u3vqfn1oy99wYxYPA88D04G/S5V3\nAU/m2SgzO3jlwCiHBdTv6m1WO0OGRbK86S+Bt9WuOWb2Wg21PrQDw16LzDELSWdIelTSbkn7JfVJ\n2lWLxlk+IoIfrvkVETFg8DVdnqdaDviONun1oadNbAJg2sQmFq/cxKLl63L/21r9quYM7i9TusT4\ntyktUPRR4IQ8G1WUrn1dLF27lGd2PMOJR57IwtkLmTxuck3qruUSmOUZM5fMbWVj527WP99FecbM\n4pWb+OpFp+e6hnB5wLfWRsMyo+n1oR/ZuIOd3T0cNWU85586o67Xh7b8VbWeRURsABojoi8iFgPv\nyrdZtffQ5oeYccsMLl9+OTc/fDOXL7+cGbfM4KHND+VWZ/qXfHrGTN6/8IuYMTPUZ6rV0QyMjmVG\ny+tDlwa5y11OpTGM8rrR9WjsmIYB9zbyqvmXfVnSWGC1pJslXQ1MzLldNdW1r4t5d82ja38XfdEH\nQF/00bW/VL57/+5c6i1qTnx5APSSua3s7O4B8p8xU/T8/1pLh+Dq7hvpGHclq7tvzD0cR+v60C1T\nJwy4t5FXTVh8JNnvk0A3cAzwgTwbVWtL1y6lPyqfRNQf/SxdszSXeoucE5+eYlmW5wBoUZ+1qCOa\ndDh2922hp+E5uvu21DQc0yFl9lplhkVE/DIi9kbEroj4TERcA9TVsewzO56hu6dy10R3TzfP7Hwm\nl3qL+IVfNtSMmTx/8RbxWYs6okmHY29/6YdIb39/TU+OS4eU2Ws1ZFhIapT0IUmflnRKUjZf0sOU\nBr3rxr69r0cxDoDG/tcPuFeMY9+e1+dWd61/4cPAGTMvTbiZjnFX8tKEm3OfMVPEZy3qiCYdjr39\npX/P3v7wyXF22BruyOKfgU8ARwJfkrSY0kUFb46IObVoXK0sOuePaWosTQxrihk09R9HU8woPW8c\nw6L3/HFudUcE13//UbY3fY6OcVeyvelzXP/9R3Md8C3PmLnwjGb2aTM9Dc+xT5u58IxmFq/clNuv\n7VofzcDAL+2n95f+jZ/e/7mafGkXEY5meRkuLNqAcyLiOmAe8EfAmRHxvZq0rIamjJ/Cjz56L2Mb\nJjK15+P8zr5/YGrPxxnbMJEfffTe3KbPRgSXLrmTm1afSU9Dqcugp2ELN60+k0uX3JnrbKhPntfL\nl9efTW9fqUuot6+HL68/m0+e15vbbKgijmbg1S/tnoatyb/x1pp8aRcRjmZ5GS4s9keURn0jYi/w\ni4j41YFWkHRnPS5peYVt4yQtlbRB0k8ltaa2XZeUPy3p3AOt90C949h38MK1z9MYRwLQGEfywrXP\n845j35Fbnd9d/Sz/8vSfENpDUPrSDnoI7eFfnv4TvvfExlzq3b1/N4t+8hG69nfRn9TbTw9d+7tY\n9JOPDDl+81qk5//3NXTQ0/AcfQ0dr3QR5TngW8SXdjocxzSUQmlMg3xynB22hguLN0h6Mrk9lXr+\nlKQDuTbUVcD6IbZdCvw6Ik4Avgj8DYCkkymdCDgbOA/4P5IaD6DOAxYR3PLvm2lkCgCNTOGWf9+c\n6//UO/ofYNyY0hdJX8P2Affjxogd/Q/kUm969tfgevOa/VWe/3/1OcfQF72lOqOXq885Jtf5/0V9\naafDcUxDQ1JvQ03C0SwPw4XFScD7ktv81PP5yX0mSS3Ae4Hbh9jlfOCO5PHdwLtV6hs4H1gSEfsi\n4jlgA/CWauo8GOkvlNYjX8dJR0+m9cjX5f6FsmHnBvb2vVxx296+l3l257O51Js1+2vDzg0jXqck\nJk3ZQMsXW9jfX/rM+/tfpuWLLUyasiHX2VDl8RmUTI9Wf+7jM0WFo1lehlv86JfD3ap8/1uBa4Gh\nVkKZAWxJ6usFXqI0oP5KeWJrUpaL9K/ABz59Jvde9Qc88Okzc/8VeOKRJzKxqfL5jRObJnLCtHyu\nqlJEvekTH3tVOorp1fbcT3wsYnwGBoZjT1JvT19P7uFolpfczo2XNB/Ynlpxr+JuFcpimPLBdVwm\nqV1Se2dn50G2dOAlEsr/E5cHRfP8Fbhw9kIaVPlP0KAGFp6ysG7qLerEx/T4zKtnWZDr+AwMDMfB\n9eYZjmZ5yfNCKnOBBZI2AUuAsyTdOWifrZTOCEfSGOC3gJ3p8kQL0DG4goi4LSLaIqKtubn5oBta\n1CUSJo+bzD0fvofJYyfTkPwpGmhg8thS+aSxk+qm3iK6vqC4kCqqXrO85BYWEXFdRLRERCulwer7\nI+KiQbst49VlWz+Y7BNJ+QXJbKnjgBOBn+XV1iK9febb6fjzDmZMKfWyzZgyg44/7+DtM99eV/UW\n1eWWDqn0jDPIN6SKCsc0X1zPRtJwy6o+RYWuH0pdRBERbzqYCiUtAtojYhmlE//+VdIGSkcUF1B6\n87WSvgWsA3qBKyKSK/zVoUljJ/G2Y97GtBemMWv6rNyOKIqsd+HshVyz4pqK2/LsciuHVHdP92/M\n/KrFuFClwMiz3rSWqRPYsc0X17ORMdx6FvNHqpKIeBB4MHl8Q6p8L6WT/Sq95vPA50eqDYe6pR8s\npluiVvWWu77m3TWP7v3d9NNPAw1MHDsx1y63okKqqHrN8pL3bCizVxTR5XYojAu9uqoEuddb1rWv\nix17dgCwY88OuvZ15Vqf1b/hLiTYJWlXhVuXl1W1gzVp7CSmTZgGwLQJ02rS5Vb0uND4ptIB/Pim\nMTWpt7yQV8eu0pyQjl0duS/kZfVvuCOLyRExpcJtckRMqWUjrb7Mmj6LNx/1ZmZNn1WzOosIqXK9\nx08/AoDjpx9RkyOK8pTd/uT0pn76PWXXXrNq1uAGQNLrgfHl5xGxOZcWWd0ranxmNKhmyu6lp11a\n41ZZPcicUydpgaRngOeA/wA2Affm3C4zOwhFTNk9FNZXt/xVMwH7s8AZlK46exzwbmBlrq0yy0ER\n3V+1VsT5LANXI3xVva6vPlpV0w3VExE7JDVIaoiIByT9Te4tMxtho6H7q4gpuwOWkJ1QzBKylr9q\njixelDQJ+E/gLkl/T+lEOTM7xBQxVbh8HbULz2imt7907mxvfx8XntHslQHrSDVhcT7wMnA18EPg\nWaq8RLmZ1V4RU4VXblnJl9efTSS/I4PSlX5XbnGPdb0YNiySBYe+HxH9EdEbEXdExJciYkeN2mdm\nB6GWU4XT03UHlHu6bl0ZNiyS6zG9LOm3atQes7pT7wPrS9YsYW9v5Z7pvb29LFmzJNf6fbZ6bVQz\nwL0XeErSfcArc/Ii4lO5tcqsjtT7wPp9v3iCnv49Fbf19O/hvqef4BOn5VP3Q5sfeuV6Y/Dq2er3\nfPie3M+UH22qGbP4N+B/URrgXpW6mZlxzu+9mfGNr6u4bXzj6zhn1ptzqddnq9dWZlhExB3At4BH\nkjGLO5IyMzMuOOUCmhobK25ramzkglMuyKVeLzBVW9Wcwf0+YDWlmVBIOlXSsrwbZmaHh6KusHso\nLDA1mlTTDfVXwFuAFwEiYjVwXI5tMrPDTHm6blNjEwBNjU25T9ctavXF0aqasOiNiJcGlfliL2Y2\nwKSxk2hUac5Mo8bkfoXdhbMX0qDKX2FeYGrkVRMWayRdCDRKOlHSPwAP59wuM7NhFbWw1WhVTVhc\nCcwG9gHfAF4C/izPRpmZVaOoha1Go2rOs5gVEdcD1+fdGDOzA1U+W33Lri01XdhqtKnmyOIWST+X\n9FlJs3NvkZmZHXKqOc/iXcCZQCdwm6SnJP3PrNdJGi/pZ5KekLRW0mcq7PNFSauT2y8kvZja1pfa\n5qm6ZmYFqmpZ1Yj4FfAlSQ8A1wI3AJ/LeNk+4KyI2C2pCXhI0r0R8Ujqfa8uP5Z0JTAn9fo9EXFq\nlZ/DzMxyVM1JeSdJ+itJa4EvU5oJ1ZL1uigpn2/flNyGm3L7IeCb2U02M7Naq2bMYjHwa+CciHhn\nRPxjRGyv5s0lNUpaDWwH7ouInw6x37GUTvS7P1U8XlK7pEckvX+I112W7NPe2dlZTZPMzOwgVNMN\n9S7gd4GpknZGxN5q3zy5xPmpko4AvivplIhYU2HXC4C7k/3LZkZEh6TjgfslPRURzw56/9uA2wDa\n2tp8oqBZSvmS6PV6aXSrrSHDQtIY4H8DlwCbKR2FtEhaDFwfET3VVhIRL0p6EDgPGCosrhj0mo7k\nfmPy2jmUVukzsyrU+6XRrbaG64b6AjANOD4iTo+IOZSOMI4A/jbrjSU1J0cUSJoAnA38vMJ+s4Cp\nwE9SZVMljUseTwfmAuuq/VBmZjayhuuGmg/8XkS80r0TEbsk/SmlL/2rMt77aOCOZGnWBuBbEbFc\n0iKgPSLK02E/BCxJ1wOcBHxNUn/y2psiwmFhZlaQ4cIiBn2Blwv7JGWOD0TEkwycClsuv2HQ87+q\nsM/DwBuz6jAzs9oYrhtqnaSPDi6UdBEVupPMzKx+DXdkcQXwHUkfp7SMagC/D0wA/nsN2mZmZoeI\nIcMiIv4LeKuksyhddVbAvRHx41o1zszMDg2Z51lExP0MPFnOzMxGmWrO4DYzs1HOYWFmZpkcFmZm\nlslhYWZmmRwWZjZixo5pGHBv9cN/UTMbMS1TJwy4t/rhsDAzs0wOCzMzy+SwMDOzTA4LMzPL5LAw\nM7NMDgszM8vksDAzs0wOCzMzy+SwMDOzTA4LMzPLlFtYSBov6WeSnpC0VtJnKuzzMUmdklYnt0+k\ntl0s6ZnkdnFe7TQzs2yZK+W9BvuAsyJit6Qm4CFJ90bEI4P2WxoRn0wXSJoG3Ai0UVr7e5WkZRHx\n6xzba2ZmQ8jtyCJKdidPm5JbVPnyc4H7ImJnEhD3Aefl0EwzM6tCrmMWkholrQa2U/ry/2mF3T4g\n6UlJd0s6JimbAWxJ7bM1KTMzswLkGhYR0RcRpwItwFsknTJolx8ArRHxJuBHwB1JuSq93eACSZdJ\napfU3tnZOZJNNzOzlJrMhoqIF4EHGdSVFBE7ImJf8vSfgNOTx1uBY1K7tgAdFd73tohoi4i25ubm\nEW+3mZmV5DkbqlnSEcnjCcDZwM8H7XN06ukCYH3yeAXwHklTJU0F3pOUmZlZAfKcDXU0cIekRkqh\n9K2IWC5pEdAeEcuAT0laAPQCO4GPAUTETkmfBR5N3mtRROzMsa1mZjaM3MIiIp4E5lQovyH1+Drg\nuiFe/3Xg63m1z8zMquczuM3MLJPDwszMMjkszMwsU54D3GY2ysyaPmvAvdUPh4WZjZilH1xadBMs\nJ+6GMjOzTA4LMzPL5LAwM7NMDgszM8vksDAzs0wOCzMzy+SwMDOzTA4LMzPL5LAwM7NMDgszM8vk\nsDAzs0wOCzMzy+SwMDOzTA4LMzPL5LAwM7NMuYWFpPGSfibpCUlrJX2mwj7XSFon6UlJP5Z0bGpb\nn6TVyW1ZXu00M7NseS5+tA84KyJ2S2oCHpJ0b0Q8ktrncaAtIl6W9KfAzcDCZNueiDg1x/aZmVmV\ncjuyiJLdydOm5BaD9nkgIl5Onj4CtOTVHjMzO3i5jllIapS0GtgO3BcRPx1m90uBe1PPx0tql/SI\npPfn2U4zMxtermtwR0QfcKqkI4DvSjolItYM3k/SRUAb8M5U8cyI6JB0PHC/pKci4tlBr7sMuAxg\n5syZuX0OM7PRriazoSLiReBB4LzB2ySdDVwPLIiIfanXdCT3G5PXzqnwvrdFRFtEtDU3N+fTeDMz\ny3U2VHNyRIGkCcDZwM8H7TMH+BqloNieKp8qaVzyeDowF1iXV1vNzGx4eXZDHQ3cIamRUih9KyKW\nS1oEtEfEMuALwCTg25IANkfEAuAk4GuS+pPX3hQRDgszs4LkFhYR8SSVu45uSD0+e4jXPgy8Ma+2\nmZnZgfEZ3GZmlslhYWZmmRwWZmaWyWFhZmaZHBZmZpbJYWFmZpkcFmZmlslhYWZmmXK9kKCZWS3M\nmj5rwL2NPIeFmR32ln5wadFNqHvuhjIzs0wOCzMzy+SwMDOzTA4LMzPL5LAwM7NMDgszM8vksDAz\ns0yKiKLbMCIkdQK/HKG3mw68MELvdTgYTZ93NH1WGF2fdzR9Vhi5z3tsRDRn7VQ3YTGSJLVHRFvR\n7aiV0fR5R9NnhdH1eUfTZ4Xaf153Q5mZWSaHhZmZZXJYVHZb0Q2osdH0eUfTZ4XR9XlH02eFGn9e\nj1mYmVkmH1mYmVkmh8Ugks6T9LSkDZL+suj25EXSMZIekLRe0lpJVxXdprxJapT0uKTlRbclb5KO\nkHS3pJ8nf+O3Fd2mPEm6OvnveI2kb0oaX3SbRoqkr0vaLmlNqmyapPskPZPcT827HQ6LFEmNwFeA\nPwROBj4k6eRiW5WbXuDPI+Ik4Azgijr+rGVXAeuLbkSN/D3ww4h4A/Bm6vhzS5oBfApoi4hTgEbg\ngmJbNaL+BThvUNlfAj+OiBOBHyfPc+WwGOgtwIaI2BgR+4ElwPkFtykXEfF8RDyWPO6i9GUyo9hW\n5UdSC/Be4Pai25I3SVOAPwD+GSAi9kfEi8W2KndjgAmSxgCvAzoKbs+IiYj/BHYOKj4fuCN5fAfw\n/rzb4bAYaAawJfV8K3X8BVomqRWYA/y02Jbk6lbgWqC/6IbUwPFAJ7A46Xa7XdLEohuVl4j4L+Bv\ngc3A88BLEfHvxbYqd0dFxPNQ+uEHvD7vCh0WA6lCWV1PF5M0Cfi/wJ9FxK6i25MHSfOB7RGxqui2\n1MgY4DTgHyNiDtBNDbopipL0158PHAf8DjBR0kXFtqr+OCwG2gock3reQh0dzg4mqYlSUNwVEd8p\nuj05mgsskLSJUtfiWZLuLLZJudoKbI2I8pHi3ZTCo16dDTwXEZ0R0QN8B/hvBbcpb9skHQ2Q3G/P\nu0KHxUCPAidKOk7SWEqDZMsKblMuJIlSn/b6iLil6PbkKSKui4iWiGil9De9PyLq9pdnRPwK2CJp\nVlL0bmBdgU3K22bgDEmvS/67fjd1PKCfWAZcnDy+GPh+3hWOybuCw0lE9Er6JLCC0oyKr0fE2oKb\nlZe5wEeApyStTsr+R0TcU2CbbORcCdyV/OjZCFxScHtyExE/lXQ38BilWX6PU0dnc0v6JnAmMF3S\nVuBG4CbgW5IupRSWf5R7O3wGt5mZZXE3lJmZZXJYmJlZJoeFmZllcliYmVkmh4WZmWVyWJjlRNIm\nSdOLbofZSHBYmJlZJoeF2QiQNFHSv0l6IllTYWGy6UpJj0l6StIbUvt+XdKjyYX+6vLKxlZfHBZm\nI+M8oCMi3pysqfDDpPyFiDgN+Efg00nZ9ZQuOfL7wLuAL9TzVWGtPjgszEbGU8DZkv5G0jsi4qWk\nvHyBxlVAa/L4PcBfJpdZeRAoXLvZAAAApElEQVQYD8ysYVvNDpivDWU2AiLiF5JOB+YBfy2pvJ7C\nvuS+j1f/fxPwgYh4usbNNDtoPrIwGwGSfgd4OSLupLQQz3CXBF9BaSxDyWvn1KCJZq+Jw8JsZLwR\n+FnStXQ98Llh9v0s0AQ8KWlN8tzskOarzpqZWSYfWZiZWSaHhZmZZXJYmJlZJoeFmZllcliYmVkm\nh4WZmWVyWJiZWSaHhZmZZfr/y6dstBPiAWMAAAAASUVORK5CYII=\n",
      "text/plain": [
       "<matplotlib.figure.Figure at 0x29e83e206a0>"
      ]
     },
     "metadata": {},
     "output_type": "display_data"
    }
   ],
   "source": [
    "sns.regplot(x=X_vec['he'], y=Reviews_df['Overall Rating'],marker='x', fit_reg=False, x_estimator=np.mean)\n",
    "sns.regplot(x=X_vec['she'], y=Reviews_df['Overall Rating'], color='green', fit_reg=False, x_estimator=np.mean)"
   ]
  },
  {
   "cell_type": "code",
   "execution_count": 354,
   "metadata": {},
   "outputs": [
    {
     "data": {
      "text/plain": [
       "<matplotlib.axes._subplots.AxesSubplot at 0x29efc923b00>"
      ]
     },
     "execution_count": 354,
     "metadata": {},
     "output_type": "execute_result"
    },
    {
     "data": {
      "image/png": "iVBORw0KGgoAAAANSUhEUgAAAYUAAAEKCAYAAAD9xUlFAAAABHNCSVQICAgIfAhkiAAAAAlwSFlz\nAAALEgAACxIB0t1+/AAAADl0RVh0U29mdHdhcmUAbWF0cGxvdGxpYiB2ZXJzaW9uIDIuMS4wLCBo\ndHRwOi8vbWF0cGxvdGxpYi5vcmcvpW3flQAAH8RJREFUeJzt3XuYFfWd5/H3py8gjQYINuoIBIg6\nZMwY1B6jkWWIYXfjJZjZODu6k4uZYcGsCZrLkwcz+5CEzG50J2syxEyUYBJzM+5jbsRLMrJKCIma\nNAYvBKIMkMBKAhJEoLn05bt/nOLYHM7proPUqe7Tn9fz1HPqfM/vVH3LwvPtql/VrxQRmJmZATTk\nnYCZmQ0cLgpmZlbkomBmZkUuCmZmVuSiYGZmRS4KZmZW5KJgZmZFLgpmZlbkomBmZkVNeSdQrZNP\nPjkmTZqUdxpmZoPK6tWrX4iI1v7aDbqiMGnSJNrb2/NOw8xsUJH02zTtfPrIzMyKXBTMzKzIRcHM\nzIpcFMzMrMhFwczMijItCpI2S3pa0hpJR10ypILFkjZIekrSeVnmY2ZmfavFJalvjogXKnx2KXBm\nMr0R+GLyelxNWnD/UbHNN19+vFdjVfJ+GXimf3o5W3cfLL4fP2o4q26alWNGVmt5nz66EvhaFDwG\njJZ02vFcQbkfnr7iVhveLwNPaUEA2Lr7INM/vTynjCwPWReFAP5V0mpJc8t8fjqwpdf7rUnMzGqs\ntCD0F7f6lPXpo4sj4nlJ44CHJK2PiJW9PleZ70RpICkocwEmTpyYTaZmZpbtkUJEPJ+8bge+B1xQ\n0mQrMKHX+/HA82WWsyQi2iKirbW136E7zMzsGGVWFCSNlHTS4XngPwDPlDRbBrw7uQrpQmB3RGzL\nKiczq2z8qOFVxa0+ZXn66BTge5IOr+dbEfEjSdcBRMTtwAPAZcAGoAN4b4b5mFkf9nd2VxW3+pRZ\nUYiIjcAbysRv7zUfwPVZ5WBm6e3s6KoqbvUp70tSzcxsAHFRMDOzIhcFMwNgbEv5s8mV4lafXBTM\nDICDXT1Vxa0+uSiYGQB7D5X/8a8Ut/rkomBmZkUuCmZmVuSiYGYAnDis/M9BpbjVJ+9tMwPgQGf5\nvoNKcatPLgpmBkDXUeMT9x23+uSiYGZmRS4KZmZW5KJgZgA0lXvkVR9xq08uCmYGwNveUP7x6JXi\nVp9cFMwMgGVP/R4A6eWpd9yGBhcFMwOgu6f8ZUaV4lafXBTMDIDGhvKdB5XiVp8yLwqSGiX9StJ9\nZT67VtIOSWuSaU7W+ZhZebPPORWAiJen3nEbGmpxpHADsK6Pz++JiGnJtLQG+ZhZGQ88va2quNWn\nTIuCpPHA5YB/7M0GuIPd1cWtPmV9pPA54KNAX4OnvEPSU5LulTShXANJcyW1S2rfsWNHJomamVmG\nRUHSFcD2iFjdR7MfApMi4hxgOXBXuUYRsSQi2iKirbW1NYNszcwMsj1SuBiYLWkz8G3gEknf6N0g\nInZGxMHk7ZeA8zPMx8z6MLyxurjVp8yKQkTcFBHjI2IScDXwcES8s3cbSb1vlZxN3x3Sx2TzzZdX\nFbfa8H4ZeH7zP8r/t68Ut9pZsX471yx5jOm3PMw1Sx5jxfrtma2r5vcpSFokaXbydr6ktZKeBOYD\n1x7v9U1acH9VcasN75eBZ/qnl1cVt9pYsX47C5etZfueA4we0cz2PQdYuGxtZoWhKZOlloiIFcCK\nZH5hr/hNwE21yMHM+rZ198Gq4lYbd6zcSHOjaBlW+LluGdZEx6Eu7li5kZlTxx339fmOZjOzAWzL\nrg5GNB/ZsTOiuZGtuzoyWZ+LgpnZADZhTAv7O4+8WWR/Zzfjx7Rksj4XBTMDYPyo4VXFrTbmzZhC\nZ3fQcaiLiMJrZ3cwb8aUTNbnomBmAEx4dfm/PCvFrTZmTh3HotlnM+6kE9i9v5NxJ53AotlnZ9Kf\nADXqaDazge/RTbuqilvtzJw6LrMiUMpHCmZmVuSiYGZmRS4KZgbARZPHVBW3+uSiYGYA7Oo4VFXc\n6pOLgpkBsP4P+6qKW31yUTAzsyIXBTMzK3JRMDMApp4ysqq41ScXBTMD4LI//5Oq4lafXBTMDICl\nqzbR3ChGNDcWp+ZGsXTVprxTsxpyUTAzAPYd6qZBR8YaVIjb0OGiYGYAjBzWSE8cGeuJQtyGjsyL\ngqRGSb+SdF+Zz4ZLukfSBkmPS5qUdT5mVt6c6ZPp7A72d3YXp87uYM70yXmnZjVUiyOFG4B1FT77\ne2BXRJwBfBa4pQb5mFkZty5/rqq41adMi4Kk8cDlwNIKTa4E7krm7wXeIkkV2pqZWcayPlL4HPBR\noKfC56cDWwAiogvYDYwtbSRprqR2Se07duzIKlczsyEvs6Ig6Qpge0Ss7qtZmVgcFYhYEhFtEdHW\n2tp63HI0M7MjZXmkcDEwW9Jm4NvAJZK+UdJmKzABQFITMAr4Y4Y5mZlZHzIrChFxU0SMj4hJwNXA\nwxHxzpJmy4D3JPNXJW2OOlJ4JTbffHlVcasN75eBx/vEIIf7FCQtkjQ7eXsnMFbSBuBDwILjvb5J\nC+6vKm614f0y8Jy/6MdVxa0+NdViJRGxAliRzC/sFT8A/HUtcjCzvu3s6KoqbvXJdzSbmVmRi4KZ\nmRW5KJgZAGNbyp9NrhS3+uSiYGZmRS4KZga4o9kKXBTMzKzIRcHMzIr67UGS9KEy4d3A6ohYc/xT\nMrM8jG1pKnuqyB3NQ0uaI4U24DoKI5qeDswFZgJfkvTR7FIzs1qacVb5wSYrxa0+pSkKY4HzIuLD\nEfFhCkWiFZgBXJthbmZWQ8ue+j0A0stT77gNDWmKwkTgUK/3ncBrImI/cDCTrMys5rpLH9DcT9zq\nU5qThd8CHpP0g+T924C7JY0Efp1ZZmZWU40NKlsAGhv8MMShpN8jhYj4FIV+hBcpdDBfFxGLImJf\nRPxt1gmaWW3MPudUACJennrHbWhIe1nBr4DnD7eXNDEifpdZVmZmlot+jxQkfQD4A/AQcB9wf/Jq\nZnXEHc0G6Y4UbgD+NCJ2Zp2MmeXHHc0G6a4+2kKhL8HM6lilDmV3NA8taYrCRmCFpJskfejw1N+X\nJJ0g6ReSnpS0VtIny7S5VtIOSWuSac6xbISZvXLuaDZId/rod8k0LJnSOghcEhF7JTUDqyQ9GBGP\nlbS7JyLeX8VyzSwDv999oKq41ad+i0JEHPUXfhoREcDe5G1zMvnkpNkA9eimXVXFrT5VLAqSPhcR\nN0r6IWV+zCNidn8Ll9QIrAbOAL4QEY+XafYOSTOAZ4EPRsSWMsuZS+FeCSZOnNjfas3M7Bj1daTw\n9eT1M8e68IjoBqZJGg18T9LrI+KZXk1+CNwdEQclXQfcBVxSZjlLgCUAbW1tPtowM8tIxY7miFid\nzE6LiJ/0noBp1awkIl4EVgBvLYnvjIjD4yd9CTi/muWa2fFz0eQxVcWtPqW5+ug9ZWLX9vclSa3J\nEQKSRgCzgPUlbU7r9XY2sC5FPlXZfPPlVcWtNrxfBp67572J8aOGHxEbP2o4d897U04ZWR4qFgVJ\n1yT9CZMlLes1PQKkuZHtNOARSU8BvwQeioj7JC2SdLg/Yn5yueqTwHwyGIp70oL7q4pbbXi/DDyL\nlz/Ltj2HaG4Uw5tEc6PYtucQi5c/m3dqVkN99Sn8HNgGnAz8717xPcBT/S04Ip4Czi0TX9hr/ibg\nprTJmll2lq7aRIOgqaHwt2KDoKunh6WrNjF/1lk5Z2e1UrEoRMRvgd8CF9UuHTPLy75D3TSVnDto\nUCFuQ0eaAfEulPRLSXslHZLULemlWiRnZrUzclgjpcMc9UQhbkNHmo7m24BrgOeAEcAc4PNZJmVm\ntTdn+mQ6u4P9nd3FqbM7mDN9ct6pWQ2lep5CRGyQ1Jjcd/AVST/POC8zq7FNL+ytKm71Kc2RQoek\nYcAaSf9L0geBkRnnZWY15ucpGKQrCu9K2r0f2AdMAN6RZVJmVnt+noJBugHxfpvMHgA+CSDpYmBD\nhnmZWY01NqhsAfDzFIaWvm5ea0xuYPuIpNcnsSuS/oTbapahmdWEn6dg0PeRwp0UThX9Algs6fA9\nCwsi4vu1SM7MamfdtvJXmleKW33qqyi0AedERI+kE4AXgDMiwr1OZnVo/R/2VRW3+tRXR/OhiOgB\niIgDwLMuCGZm9a2vI4WpyWB2AAJem7wXhQernZN5dmZmVlN9FYXX1SwLM8vd1FNGlj1VNPUU35Y0\nlPQ3IJ6ZDRFjWoZRuBWpXNyGijQ3r5nZEPDopl1Vxa0+uSiYmVmRi4KZmRVV7FOQ9DRQbtCTVFcf\nJfc2rASGJ+u5NyI+XtJmOPA14HwKj/j8m4jYXM0GmNnxcdHkMWVPFV00eUwO2Vhe+rr66IpXuOyD\nwCURsVdSM7BK0oMR8VivNn8P7IqIMyRdDdwC/M0rXK+ZHYNTR51QVdzqU8XTRxHx276m/hYcBYcH\nYm9OptIjjyuBu5L5e4G3SPLoW2Y58NDZBn2fPtpD36ePXtXfwiU1AquBM4AvRMTjJU1OB7ZQWGCX\npN3AWApDavRezlxgLsDEiRP7W62ZHQMPnW3Q95HCSRHxqjLTSWkKQrKM7oiYBowHLjg82mov5Y4K\njvoXGBFLIqItItpaW1vTrNrMqlRpiGwPnT20pL76SNI4SRMPT9WsJCJeBFYAby35aCuFkViR1ASM\nAv5YzbLN7Pjw0NkGKYqCpNmSngM2AT8BNgMPpvheq6TRyfwIYBawvqTZMuA9yfxVwMMR4WNVM7Oc\npDlS+BRwIYVRUicDbwF+luJ7pwGPJIPo/RJ4KCLuk7RI0uykzZ3AWEkbgA8BC6reAjM7LtzRbJDi\ncZxAZ0TslNQgqSEiHpF0S39fioingHPLxBf2mj8A/HVVGZtZJtzRbJCuKLwo6UQKN6J9U9J2oCvb\ntMys1vyMZoN0p4+uBDqADwI/Av4NeFuWSZlZ7bmj2aCfopDcZ/CDiOiJiK6IuCsiFkfEzhrl94pt\nvvnyquJWG94vA89nrz7vqGcnTD1lJJ+9+rycMrI89FkUIqIb6JA0qkb5HHeTFtxfVdxqw/tl4Fm8\n/Fme29FBc6MY3iSaG8VzOzpYvPzZvFOzGkrTp3AAeFrSQ/R6AkdEzM8sKzOruaWrNtEgaGoo/K3Y\nIOjq6WHpqk3Mn3VWztlZraQpCvcnk5nVsX2HumkqOXfQoELcho5+i0JE3JXcfDYxIn5Tg5zMLAcj\nhzWyv7Ob3hcb9UQhbkNHmjua3wasoXDlEZKmSVqWdWJmVltzpk+mszvY39ldnDq7gznTJ+edmtVQ\nmktSPwFcALwIEBFrAP8rMaszm17YW1Xc6lOaotAVEbtLYr7F0azOeJgLg3Qdzc9I+i9Ao6QzgfnA\nz7NNy8xqzcNcGKQ7UvgAcDaFx2t+C9gN3JhlUmZWe36egkG6ovCnEfEPEfEXyfTfk4HszKyOeJgL\ng3RF4VZJ6yV9StLZmWdkZrm4ctp4WkouP20Z1siV08bnlJHlIc19Cm+WdCrwn4Elkl4F3BMR/5h5\ndmZWM3es3Mhpo06gZdjLPwsdh7q4Y+VGZk4dl2NmVkupHscZEb+PiMXAdRTuWVjYz1fMbJDZsquD\nEc1HHimMaG5k666OnDKyPKS5ee11kj4haS1wG4Urj3w8aVZnJoxpYX/nkUNa7O/sZvyYlpwysjyk\nOVL4CrAL+PcR8ZcR8cWI2N7flyRNkPSIpHWS1kq6oUybmZJ2S1qTTD4CMcvJvBlT6OwOOg51EVF4\n7ewO5s2YkndqVkNp7lN4M/BaYIykP1Zx5VEX8OGIeELSScBqSQ9FxK9L2v00Iq6oImerA8Mb4WCZ\ncdaGe5id3MycOo5FFPoWtu7qYPyYFubNmOL+hCGmYlGQ1AT8T+C9wO8oHFWMl/QV4B8iorOvBUfE\nNmBbMr9H0jrgdKC0KNgQVK4g9BW32pg5dZyLwBDX1+mjfwJeDUyJiPMj4lwKRwyjgc9UsxJJk4Bz\ngcfLfHyRpCclPVjpkldJcyW1S2rfsWNHNas2M7Mq9FUUrgD+a0TsORyIiJeA9wGXpV2BpBOB7wA3\nJt/v7QngNRHxBuDzwPfLLSMilkREW0S0tba2pl21mZlVqa8+hYiIowY9iYhuSakGQ5HUTKEgfDMi\nvltmWS/1mn9A0r9IOjkiXkizfBu83KcwMC1e/ixLV21i36FuRg5rZM70yX7q2hDT15HCryW9uzQo\n6Z3A+v4WLEnAncC6iLi1QptTk3ZIuiDJZ2eaxG1wc5/CwLN4+bP888Mb2N9ZeALb/s5u/vnhDX5G\n8xDT15HC9cB3Jf0dsJrCcNl/AYwA/irFsi8G3kXh+c5rktjHgIkAEXE7cBXwPkldwH7g6nJHJ2aW\nPT+j2aCPohAR/w94o6RLKIySKuDBiPi/aRYcEauS7/TV5jYKN8SZWc78jGaDdGMfPQw8XINczCxH\nfkazQcqxj8ys/s2ZPpmeKJwy6ome5BU/o3mIqfuisPnmy6uKW214vww882edxQ2XnMGI5ka6egqD\n4d1wyRnuTxhiNNj6ddva2qK9vT11+0kL7q/4mX+A8nP+oh+zs6PrqPjYliZWL/yPOWRkVt8krY6I\ntv7a1f2Rgg1M5QpCX3Ezqw0XBTMzK3JRMDOzIhcFy8XYlvJXQ1eKm1ltuCiYmVmRi4Llwh3NZgOT\ni4KZmRW5KJiZWZF79SwXY1uaKt68ZvlZsX47d6zcyJZdHUzwM5qHJB8pWC7e86by4+lUilv2Vqzf\nzsJla9m+5wCjRzSzfc8BFi5by4r12/NOzWrIRcFysXTVJpobxYjmxuLU3CiWrtqUd2pD1h0rN9Lc\nKFqGNSEVXpsbxR0rN+admtWQi4LlYt+hI4doBo/dn7ctuzoY0XzkMNkjmhvZuqsjp4wsD5kVBUkT\nJD0iaZ2ktZJuKNNGkhZL2iDpKUnnZZWPDSwjhzXSUzIWo8fuz9eEMS3s7zyyKO/v7Gb8mJacMrI8\nZHmk0AV8OCJeB1wIXC/pz0raXAqcmUxzgS9mmI8NIHOmT6azO9jf2V2cOrvDY/fnaN6MKXR2Bx2H\nuogovHZ2B/NmTMk7NauhzIpCRGyLiCeS+T3AOuD0kmZXAl+LgseA0ZJOyyonGzhuXf5cVXHL3syp\n41g0+2zGnXQCu/d3Mu6kE1g0+2xffTTE1OT6P0mTgHOBx0s+Oh3Y0uv91iS2rRZ5mdmRZk4d5yIw\nxGXe0SzpROA7wI0R8VLpx2W+ctRTfyTNldQuqX3Hjh1ZpGlmZmRcFCQ1UygI34yI75ZpshWY0Ov9\neOD50kYRsSQi2iKirbW1NZtkzcws06uPBNwJrIuIWys0Wwa8O7kK6UJgd0T41JGZWU6y7FO4GHgX\n8LSkNUnsY8BEgIi4HXgAuAzYAHQA780wHxtAxo8aztbdB8vGzSw/mRWFiFhF+T6D3m0CuD6rHGzg\nKlcQ+oqbWW34jmYzMytyUTAzsyIXBctFpb4D9ymY5ctFwczMilwULBfuaDYbmFwUzMysyEXBzMyK\nXBQsF+5oNhuY6r4obL758qriVhurbpp1VAEYP2o4q26alVNGZgagwk3Fg0dbW1u0t7enbj9pwf0V\nP3NhMLOhQtLqiGjrr13dHymYmVl6LgpmZlbkomBmZkU1eRynWTnX3PFzHt20q/j+osljuHvem3LM\nyMx8pGC5KC0IAI9u2sU1d/w8p4zMDFwULCelBaG/uJnVhouCmZkVZfmM5i9L2i7pmQqfz5S0W9Ka\nZFqYVS5mZpZOlkcKXwXe2k+bn0bEtGRalGEuNsBcNHlMVXEzq43MikJErAT+mNXy05p6ysiq4lYb\nF7325KriZlYbefcpXCTpSUkPSjo7ixWs/8O+quJWG0tXbaK5UYxobixOzY1i6apNeadmNqTleZ/C\nE8BrImKvpMuA7wNnlmsoaS4wF2DixIm1y9Ays+9QN00lf5I0qBA3s/zkdqQQES9FxN5k/gGgWVLZ\ncwcRsSQi2iKirbW1taZ5WjZGDmukp2Qsxp4oxM0sP7kVBUmnSlIyf0GSy87jvR73KQxMc6ZPpieg\nq6eHnuhJXgtxM8tPZqePJN0NzAROlrQV+DjQDBARtwNXAe+T1AXsB66ODMbxdp/CwDR/1llAoW9h\n36FuRg5rZM70ycW4meUjs6IQEdf08/ltwG1Zrd8GvvmzznIRMBtg8r76yMzMBhAXBTMzK3JRMDOz\norovCicOK7+JleJmZkNZ3f8y7j3UU1XczGwoq/uiYGZm6bkomJlZUd0XBfcpmJmlV/e/jM8supQm\nHRlrUiFu+VqxfjvXLHmM6bc8zDVLHmPF+u15p2Q25NV9UVi8/FlCorlRDG8qvIbE4uXP5p3akLZi\n/XYWLlvL9j0HGD2ime17DrBw2VoXBrOc1X1RWLpqEw2CpoYGGtSQvOJx+3N2x8qNNDeKlmFNSIXX\n5kZxx8qNeadmNqTVfVHYd6ibhpLTRx63P39bdnUwovnIYbJHNDeydVdHThmZGQyBouBx+wemCWNa\n2N95ZGHe39nN+DEtOWVkZjAEioLH7R+Y5s2YQmd30HGoi4jCa2d3MG/GlLxTMxvS8nwcZ0143P6B\naebUcSyi0LewdVcH48e0MG/GFGZOHZd3amZDmjJ4rk2m2traor29Pe80zMwGFUmrI6Ktv3Z1f/rI\nzMzSy6woSPqypO2SnqnwuSQtlrRB0lOSzssqFzMzSyfLI4WvAm/t4/NLgTOTaS7wxQxzMTOzFDIr\nChGxEvhjH02uBL4WBY8BoyWdllU+ZmbWvzz7FE4HtvR6vzWJmZlZTvK8JFVlYmUvhZI0l8IpJoC9\nkn5zjOs8GXjhGL870HhbBqZ62ZZ62Q7wthz2mjSN8iwKW4EJvd6PB54v1zAilgBLXukKJbWnuSRr\nMPC2DEz1si31sh3gbalWnqePlgHvTq5CuhDYHRHbcszHzGzIy+xIQdLdwEzgZElbgY8DzQARcTvw\nAHAZsAHoAN6bVS5mZpZOZkUhIq7p5/MArs9q/RW84lNQA4i3ZWCql22pl+0Ab0tVBt0wF2Zmlh0P\nc2FmZkV1WRQkvVXSb5IhNBaU+Xy4pHuSzx+XNKn2WaaTYluulbRD0ppkmpNHnv2pp2FPUmzLTEm7\ne+2ThbXOMQ1JEyQ9ImmdpLWSbijTZlDsl5TbMlj2ywmSfiHpyWRbPlmmTXa/YRFRVxPQCPwbMAUY\nBjwJ/FlJm/8G3J7MXw3ck3fer2BbrgVuyzvXFNsyAzgPeKbC55cBD1K4f+VC4PG8c34F2zITuC/v\nPFNsx2nAecn8ScCzZf59DYr9knJbBst+EXBiMt8MPA5cWNIms9+wejxSuADYEBEbI+IQ8G0KQ2r0\ndiVwVzJ/L/AWSeVupstbmm0ZFKKOhj1JsS2DQkRsi4gnkvk9wDqOHlVgUOyXlNsyKCT/rfcmb5uT\nqbTzN7PfsHosCmmGzyi2iYguYDcwtibZVSftUCDvSA7t75U0oczng0G9DXtyUXL4/6Cks/NOpj/J\n6YdzKfxV2tug2y99bAsMkv0iqVHSGmA78FBEVNwvx/s3rB6LQprhM1IPsZGzNHn+EJgUEecAy3n5\nr4fBZrDskzSeAF4TEW8APg98P+d8+iTpROA7wI0R8VLpx2W+MmD3Sz/bMmj2S0R0R8Q0CiM9XCDp\n9SVNMtsv9VgU0gyfUWwjqQkYxcA8HdDvtkTEzog4mLz9EnB+jXI73lIPezLQRcRLhw//I+IBoFnS\nyTmnVZakZgo/ot+MiO+WaTJo9kt/2zKY9sthEfEisIKjH0OQ2W9YPRaFXwJnSposaRiFTphlJW2W\nAe9J5q8CHo6kx2aA6XdbSs7vzqZwLnUwqpthTySdevj8rqQLKPx/tjPfrI6W5HgnsC4ibq3QbFDs\nlzTbMoj2S6uk0cn8CGAWsL6kWWa/YXkOiJeJiOiS9H7gxxSu3vlyRKyVtAhoj4hlFP7xfF3SBgrV\n9er8Mq4s5bbMlzQb6KKwLdfmlnAfVEfDnqTYlquA90nqAvYDVw/QPzouBt4FPJ2cvwb4GDARBt1+\nSbMtg2W/nAbcJamRQuH6PxFxX61+w3xHs5mZFdXj6SMzMztGLgpmZlbkomBmZkUuCmZmVuSiYGZm\nRS4KZgkVRpz9k37aXCfp3WXikyqNmlphOV+VdNWx5GmWpbq7T8HsFbgWeIY+7thNrnc3q1s+UrC6\nJelDkp5JphuT2BF/0Uv6iKRPJH+1twHfTMbaHyHpZkm/TgYb/EzS/hOSPpLMn58MrvYofTxaVtJH\nJT2dtL25zOcLJf0yyXNJr7tu5/da/7eT2F/q5ecB/ErSScfxP5mZjxSsPkk6n8Ldt2+kMHjY45J+\nAuwq1z4i7k3uHv9IRLRLejXwV8DUiIjDww6U+ArwgYj4iaR/qpDHpcDbgTdGREey3FK3RcSipP3X\ngSsoDHS4AJgcEQd7rf8jwPUR8bNk8LcDaf57mKXlIwWrV9OB70XEvmQQtO8C/66K779E4Qd3qaT/\nRGGIhyJJo4DREfGTJPT1CsuZBXwlIjoAIqLcoGVvVuHpWU8DlwCHh3R+isKRyzspDGMC8DPgVknz\nk/V3Hb04s2PnomD1qtIDR7o48t/9CeUaJT+2F1AYdfPtwI/KLD/NGDF9tpN0AvAvwFUR8ecURro9\nnNPlwBcojHy7WlJTRNwMzAFGAI9JmpoiB7PUXBSsXq0E3i6pRdJICqeCfgr8ARgnaayk4RRO1Ry2\nh8KjHA+Pyz8qGWL5RmBa74UnQxrvljQ9Cf1thTz+Ffg7SS3JcktPHx0uAC8k67wqadcATIiIR4CP\nAqOBEyW9NiKejohbgHbARcGOK/cpWF2KiCckfRX4RRJaGhG/AkhGm3wc2MSRQxJ/Fbhd0n7gUuAH\nyV/yAj5YZjXvBb4sqYPCSLbl8viRpGlAu6RDFEYd/Vivz1+U9CXgaWAzheHSoTAq7jeS01QCPpu0\n/ZSkNwPdwK8pPD/Z7LjxKKlmZlbk00dmZlbkomBmZkUuCmZmVuSiYGZmRS4KZmZW5KJgZmZFLgpm\nZlbkomBmZkX/HxGol5gZa+bGAAAAAElFTkSuQmCC\n",
      "text/plain": [
       "<matplotlib.figure.Figure at 0x29e82d5a9e8>"
      ]
     },
     "metadata": {},
     "output_type": "display_data"
    }
   ],
   "source": [
    "sns.regplot(x=X_vec['outsid class'], y=Reviews_df['Overall Rating'], fit_reg=False)#, x_estimator=np.mean)"
   ]
  },
  {
   "cell_type": "code",
   "execution_count": 173,
   "metadata": {},
   "outputs": [
   ],
   "source": [
    "for j in Reviews_df.index:\n",
    "    temp=re.finditer(r'outsid class',Reviews_df.loc[j]['Full Review Stem'])\n",
    "    if temp != []:\n",
    "        for match in temp:\n",
    "            print(Reviews_df.loc[j]['Full Review'][match.start()-20:match.start()+8+20])"
   ]
  },
  {
   "cell_type": "code",
   "execution_count": 351,
   "metadata": {},
   "outputs": [
    {
     "data": {
      "text/plain": [
       "<matplotlib.axes._subplots.AxesSubplot at 0x29e85ccd278>"
      ]
     },
     "execution_count": 351,
     "metadata": {},
     "output_type": "execute_result"
    },
    {
     "data": {
      "image/png": "iVBORw0KGgoAAAANSUhEUgAAAYUAAAEKCAYAAAD9xUlFAAAABHNCSVQICAgIfAhkiAAAAAlwSFlz\nAAALEgAACxIB0t1+/AAAADl0RVh0U29mdHdhcmUAbWF0cGxvdGxpYiB2ZXJzaW9uIDIuMS4wLCBo\ndHRwOi8vbWF0cGxvdGxpYi5vcmcvpW3flQAAIABJREFUeJzt3Xl0m/d95/v3lyDAVSLFRbsoSpTs\nyIo3WbKWbI5jTzIZN7lp08Zp2tS5M+ObNk2Tdnpmetx7mzRzbnLamcntkszkpM1k6Zo2TVPHbeLa\nsbNpXyzbkiXbIkXJ2klwEzeQAL/3D4CPCYqkQBIgQPLzOofHIJ6H4PcxbHz4/FZzd0RERACK8l2A\niIgUDoWCiIgEFAoiIhJQKIiISEChICIiAYWCiIgEFAoiIhJQKIiISEChICIigeJ8FzBddXV13tjY\nmO8yRETmlaNHj7a7e/3Nzpt3odDY2MiRI0fyXYaIyLxiZucyOU/NRyIiElAoiIhIQKEgIiIBhYKI\niAQUCiIiElAoiIhIQKEgIiIBhYKIiATmXSicbe/jz3/SwsXO/nyXIiKy4Ji757uGaSlZtdlX/cof\nAXDLikruf8MK/u0bV3LH2irMLM/ViYgUJjM76u7bb3bevFvmoqoszNLSYnoG47xytZdXrvbypR81\nU7+khPtureedW1fy5k11lIZD+S5VRGTemXd3Ctu3b/cDBw+xvyXKkyev8MOX27jQOZB2Tlk4xO6m\nWt65dQUPbFlBbWVJ2vHeWJwnnr9Ea7SPxtoKHrpzNZUl8y4fRUQylumdwrwMhbEL4rk7r17t5Xsn\nLvPM6Wu8eLGbkTGXZMAda6t48LYVvOuNK+noG+IjXzuMO/QPJSiPhDCDr33kXnY01sz9BYmIzIFF\nEwrjRXtj/OtLV3n6pavsa44yMJxIO27ARFdcURLi0GMPUKE7BhFZgBZsn8LN1FaW8MF7G/jgvQ0M\nDifYe6Y9aGa6dj02YSAAjIw4T7xwiQ/saJjTekVECsmCC4WxSsMh3rFlBe/YsgJ357f//jj/cOzS\nhOcODI/wx0+/Sl8szr/ZupK1y8rnuFoRkfybd/MUZsrM2NFYS3lk8lFJl7oH+cwTp3jzHzzLv/n/\nfsQffP80z7/WxcjI/GpiExGZqQXXpzCV3licnZ99mr5Y4oZjkWLjwS0r+emZdroHhtOO1VVGePut\ny3nn1hW8eXO9hruKyLxTMB3NZhYCjgAX3f2hccdKgG8A9wBR4APu3jrV680mFAAOt3bwyFcPTTr6\nKDHiPHe+k++fuMLTp67SGk2fOV1SXMSeploevG0FD962kvolJZP8JhGRwlFIofBbwHZg6QSh8GvA\nHe7+UTN7GHifu39gqtebbSgA9MXiPPHCJVrb+2msK+ehO1ZPOuqopa2XJ09e4elT13jufOcNw13f\nuKaKB7Ys511vXMktK5ZoVrWIFKSCCAUzWwt8Hfh/gd+aIBSeBD7t7vvNrBi4AtT7FEVlIxRmqrNv\niB+cvsqTJ6+y90w7/UPpzVCrq0u5/9blvPONK9m1sZZwaNF02YhIgSuUUPgW8DlgCfDbE4TCCeBd\n7n4h9X0zsNPd2yd7zXyGwlhD8RH2N7fz5MmrPHP6Gld6BtOOV5YU86ZNqWamLSuoKo/kqVIRkQKY\np2BmDwHX3P2omd032WkTPHdDSpnZo8CjAA0NhTGPIFJcxNtuXc7bbl2Ou/PS5R6ePHGFp05d49Tl\nHnpjcZ48mbyrCBUZd6+r5v4ty3nX1pVsrK/Md/kiIhPK2Z2CmX0O+GUgDpQCS4Fvu/svjTlnXjUf\nZepqzyDfP3GFp166yqHWDobiI2nHN9RVBIv33dtYQ1GR+iFEJLcKovloTDH3MXHz0ceA28d0NP+s\nu//CVK81H0JhrP6hOM+evsa/vnSVH7/SRmd/+nDXZeVh3rK5nge2LOf+N6ygsnRBzycUkTwp2FAw\ns88AR9z9cTMrBf4CuBvoAB5295apXmu+hcJYIyPO4XMdPHniCs+cvnbDcNdIcRHb1y/j7W9Izolo\nqKnIU6UistAUVChk03wOhfHOXLvOkyeu8oPTVzn+WhfjJ05vWbWEt26u58HbVnDn2irCxZo0JyIz\no1CYZ9qux3j6VHI+xIHmKH3jhruuWFrCWzbXcf+ty3nTpnqWlhVrToSIZEyhMI/1xeLsfbWdp05d\n5Sevtt8w3LUiEmLHhhruu2U5929ZzsqlpUSKNSdCRCanUFgghuMJnr/YzVMnr/LjV9s4dfl62vEi\ng9vXVPHmzXU8sGUFt6xYQlk4pBFNIpJGobAAJUacc9E+njp1lR+93MbRc53Exg13XV9Tzp5Ntbzt\n1np2rK+hsrSYEvVFiCx6CoUFLjHiRHtj/PjVNp493cb+ligdfUNp51SVhdm1sYa3bKrnzbfUUldZ\nSrnuIkQWJYXCIjIy4vTG4hw518Ezp6+xrzlKS1tf2jnhkHF3wzL2NNXy9luXs762nNJwSMuAiywS\nCoVFamTE6R9O8OrV68mAONPO8QvdJMaNd71lRSV7mmp506Y67lhTRXlJMWXhEMVaxE9kQVIoCO5O\n/1CCq92D/PCVNvaeaefg2Q56Y/G085YvKWH3xlr2bKplR2MNVWVhyiPFlIaLNOxVZIFQKEgad2dg\nOEFX/xAHWzrY29zOvuYol7rSh7uWhUPsaEw2M+3aWMuKqlLKw8WURorUYS0yjykUZFKjAXF9cJjT\nl6/z0zPJgHjpUk/aErVFBltXV7GnqZY9TbVsqKukNFJEWThEeaSYkDqsReYNhYJkZDQg+mIJLnb2\ns7c5yv7mKEdaOxgcN9x17bKyICC2rq6iLJIMh7JwSE1NIgVOoSDT5u4MDo/QG4vT2R/jSGsn+5uj\n7GuJEu1NH+66tLSYnRuTAbGjcRmVJWFKwyHKIiHKwiHNsBYpMAoFmbWBoQS9sTi9sWQz0/7mKPua\no5xp6007Lxwy7lpXzZ6mWnZvrGX50lLCoaIgIDTDev742F8fo6Wtj431FXzxF7fluxzJorzvvCbz\nX1kk+Zd//ZISVi4tY8eGGv7DWzZysas/CIjjr3UxnHAOt3ZyuLWTP/7BGTbVJ4e77tlUy+bllRQV\nFVFSXER56vXUYV24Wtr6OHW5J99lSB4pFCQjowFBJSxfWsLmFUt4/z3r6B4Y4nBrJ/tbohxsidIz\nGOdMWy9n2nr5xoFz1FZG2LOxlt1NtWxrWEakuIhQkSXvICLqsBYpNAoFmbZgJnQlDA6XsLq6jAe2\nrCAWT3DiUndwF3Ghc4Bo7xDffeEy333hMqXFRdzTuIw9TXXs3lhDdXkEiBEpLlKHtUiBUCjIrIwG\nRG0lDA4nqKmIsH19DR99WxPnO/rZ1xxlf3M7Jy/1MBgfYe+ZKHvPRDHgttVLg9FMDTXldJlRZKYO\na5E8UihI1gQBQTIgqssjNNVX8vCOdclJc2c72N8c5VBrB4PDI5y81MPJSz382U/OUmSwtCzMf37n\nrexorKF/KDnrOhwqCkJCi/mJ5J5CQXJiNCBqKiIMDieoKgtTv6SUd25dyVB8hOOvdfHEC5fZe6Yd\nB0YcuvqHeewfT1AeCSWX3WiqZceGGipLirk+OAxASTgZDmURLeYnkgsKBcm58XcQfbE4dzVU8/vf\nPclEA6L7hxL84PQ1fnD6GqEi4661VexuqmNPUy0rq0qJDSfo7CfosC5N3UVoMT+R2VMoyJwaDYin\nXro66TnFRca6mjIudA4wnHCOnu/i6PkuvvDsGTbWVwT9ELesWEIitWw4JJuaRoe9loVD6rAWmQGF\nguRFa7SPgeGRCY/FR5xdG2r50AcbkrOqW6IcaOmge2CYlrY+Wtr6+MsD56mpiATNTNsaqgHoHhih\ne2AYM6M0XKTF/KahNxanqz85c72rf4jeWJzKEn1ELDZ6xyUvGmsrKI+E6B9K3HCsLFzEphWVLC2N\n8NZb6nnrLfUkRpxTl3vYe6ad/S0dnO/op6NviH9+8TL//OJlSoqLuGf966u71lREGBhKMDCUgD4o\nLirSYn5TONzawSNfPRS8H1d6Btn52af52kfuZUdjTZ6rk7mkZS4kL3pjcXZ+9mn6YjeGQkVJiEOP\nPUBFSXHQB9EXSxAfef3O4kLn6HDXKC9e7GbsHkIGvGHVklQzUx2NteU3NCVFil8PiMU+NyLT90Lm\nN619JAVv7F+n7mAG5ZHQpH+dThYQ3QPDHDrbwb7mKIdbO264+1hVVcruVD/EHWuqbuiQXuxNTX97\n6DyfeeKlCe/ayiMhPvUzt/GBHQ15qEyySWsfScHb0VjDocce4IHP/4jL3YOsXFrK07/1tkn/Kh0/\nUa43Fqc/lhzu+uBtK3jwthUMJ0Z4/rUu9qVmVV+7HuNy9yDfPnaRbx+7SEVJiJ0bkgFxb2MNlaXF\nyeXDxzQ1jV2GYzFsUdoa7ZswECA5Eqy1vX+OK5J8UihIXlWUFLNt/bJgZc5MmynGLrUxMJSgbyhO\nXywOFLG9sYbtjTV8/P5NtLT1sbe5nf3NHbx89Tp9sQTPnL7GM6nhrnesrQpWd11dXQYQjGgaHdW0\n0JuapurfKY+EaKwrz0NVki9qPpIFZXS57/6hOImR9P+223tjHGhJLrNx7Hwnw4n044215UE/xBtW\nLaFogg//sctwlEdChBfAXYT6FBYH9SnIojdVQAwMJzja2sm+5igHWqJ0DQynHV9WHmbX6HDX9cso\nm2T29Oi+EeXzfG7EdPt3ZP5RKIikjN1RbqKASIw4p6/0BKOZWqPpbeiR4iK2NVQHq7vWVpZM+HvG\ndliXRebfYn59sXjQv7Oqaur+HZl/1NEskmJmr+8HQckNdxChImPr6iq2rq7iP75lIxe7BoKAeOFC\nF0PxEQ60dHCgpQOAW1cuCWZVb6yrCO4OxndYFxel30UU+mJ+FSXFVJdHuNw9SHV5RIGwSOldl0Vn\nfECMdlKP3kGsqS7j5+9Zy8/fs5brg8McOtvJvuZ2Dp3toG8owctXrvPylet8dW8rK5aWBLOq71xX\nndbHEB8Z4frgCNcHkzOsS1Id1lrMTwqZQkEWtdGAqKssSRvmOjoPYklpmHdsWc47tixnODHCixe6\n2dcSZd+ZKFd6BrnaE+M7xy/xneOXKI+EuLexht1NtezcUMPSsnDwe5JNWAkGtZifFDiFgkhK+o5y\nNwZEOFTEtvXL2LZ+GR+7r4nWaD/7mtvZ1xzl9OXr9A8l+OErbfzwlTaKDG5fkxru2lTL2mXpwzrH\nD3sd22FdWlz4TU2ycCkURCYwPiDGz6Q2MzbUVbChroIP7VxPR98QB1qSE+aOnuskFh/h+QvdPH+h\nm//1oxbW15QHs6q3rFp6w9pLw4kRhgdG6BmzmN9oU9Nim2Et+aVQELmJ8TOp+2Jx+ocSDCdeX2qj\npiLCu29fxbtvX8XgcIJj5zuDzurO/mHOdfRzrqOfvz38GlVlYXZtrGFPUx3b1y9L9W+8bqIO69LI\n6/tYazE/yaWchYKZlQI/BkpSv+db7v6pcec8Avw34GLqqS+4+5/nqiaR2Zpow6DxAVEaDrGnqY49\nTXWMuPPylevBshtn2/voHhjmyZNXefLkVcIhY1vDMnanZlXXL7lxuGt8ZITewRF6B5NNTSXh5Gim\nsnBoQc6wlvzK5Z1CDLjf3XvNLAz81My+5+4Hxp33TXf/9RzWIZITmQREkRlbVi1ly6ql/Ps3b+By\n9wD7U3cQxy90M5xwDp7t4ODZDv6IV7llRWWw7Mam5ZUTfuDHhhPEhhN0MWaGdaqpab7NjZDCk7NQ\n8OSsuN7Ut+HU1/yaKSeSoUwCAmBVVRk/u20tP7ttLb2xOIfPdrC3Ocqhsx30xuK8crWXV6728rV9\n51i+JDncdXdTLXetq57wA3/Enf6h5JyLbDQ1bayvSPunLD45ndFsZiHgKLAJ+KK7/5dxxx8BPge0\nAa8Av+nur031mprRLPPJVAExVjwxwosXu9mfWpvpcvdg2vGycIgdjclNhHZuqKWqPDzJK6WLFL8e\nEGpqWtwKapkLM6sG/hH4uLufGPN8LdDr7jEz+yjwC+5+/wQ//yjwKEBDQ8M9586dy3nNItmWaUC4\nO+c6+tnfnAyIU5d70m6xiwy2rl7K7qY69jTV0lCT2SqmZhb0RaipafEpqFAAMLNPAX3u/t8nOR4C\nOty9aqrX0Z2CLASZBgRAZ/8QB1o62N8c5UhrB4Px9PPXLisL5kO8cXVVxk1GGtW0uOQ9FMysHhh2\n9y4zKwP+FfgDd39izDmr3P1y6vH7gP/i7rumel2Fgiw0k+0oN5Gh+AjHzneyvznKvpYo0d6htONL\nS4vZmVp2Y0fjMsojmXcbLvR9Ixa7QgiFO4CvAyGgCPg7d/+MmX0GOOLuj5vZ54D3AHGgA/hVdz89\n1esqFGQhm84dhLvzytXeZEA0RznT1pt2PBwy7lpXHYxmWr60NOM6FvsWpQtR3kMhVxQKslhMJyAA\nrvYMBgFx/LUu4uOWCN+0vDJY3XXzJMNdJzPa1DR6J6GmpvlHoSCygEw3IPpicQ63drK/JcrBlig9\nqYlvo+oqI8GEuW0Ny6bd6axRTfNP1kLBzH5rgqe7gaPufnyG9c2YQkEWu8HhBP1DyZDIJCASI86J\ni93JZTdaolzoHEg7XhouYvv6GvY01bJrYw3V5ZFp1aNRTfNDNkPhr4HtwHdTT/074DDwBuDv3f0P\nZ1nrtCgURF4Xiyfoi2UeEADno/3sa4myv7mdk5d6GNvKZMBtq5cGzUwNNeXTvgsY3VyoLLUsuFZ8\nLQzZDIUngZ9z997U95XAt4D3kbxbuC0L9WZMoSAysVg8QX8sueR3pgHR1T/EobMd7GuOcqi1g8Hh\n9J9bU13G7qbk4n23r8l8uOtYJeFkOGhzofzKZiicAu5096HU9yXAcXffYmbPufvdWak4QwoFkZsb\nio8kh7kOxRmKZxYQQ/ERjr/WFXRWt/XG0o4vKS1m54ZkM9P2xhoqZ7BdZ9GYrVG1udDcymYo/D8k\n7wr+KfXUzwCPA/8D+LK7f2iWtU6LQkFkeobiI/QPJTf0yTQg3J1XryWHu+5vifLK1fThrsVFxp3r\nqoOtSFdWZT7cdSxtLjR3sjr6yMy2A28i2eT4U3fP26eyQkFk5oYTyTuI6QQEQNv1WNBR/dz5ToYT\n6Z8bG+srgn6IW1YsoWgGo5FG97EuTzUzqakpu7IdCiFgBWNWVXX387OqcIYUCiLZMdOA6B+Kc+Rc\nclb1gZYOugeG047XVkTYlbqD2NZQTckMP9xH97EuiyRHNqmpaXay2Xz0ceBTwFUgQfJuwd39jmwU\nOl0KBZHsm0kTEySHu750qYf9qa1Iz3f0px0vKS5i+/rkJkK7NtZSUzG94a5jhUPJu4jRkNDciOnJ\nZiicAXa6ezRbxc2GQkEkt2bSST3qQmd/sA3pixe7bxjuumXVktRe1XU01k5/uGvwWtrHetqyGQrP\nAg+6e3zKE+eIQkFk7sz0DgKge2CYg2eTq7sebu2gfyiRdnxVVWkqIGq5Y03VrJqHQkUW3EFoGY6J\nZTMUvgLcCvwzyS02AXD3z8+2yJlQKIjkx2wCYjiRPtz12vX04a4VJSHubUzOh9i5oYbK0tltCqkV\nX2+UzVD41ETPu/vvz7C2WVEoiOTfbALC3Wlp62Nfavnvl69cTzseKjLuWFsVrO66urpsVrVqGY4k\nLYgnInNiNgEB0N4b40Cqo/rY+a4bXqOxtjzYRGjLqqUzGu461mLdXGjWoWBmf+TunzSz7wI3nOTu\n75l9mdOnUBApXLMNiIHhBEdTq7seaInS2Z8+3HVZefj14a7rl1GWhbkMJaN3EQt8xddshMI97n7U\nzN420XF3/9Esa5wRhYLI/DCbUUwAI+6cvnydvc3t7G+O0hpNH+4aKS5iW0M1e5rq2L2xhtrKklnX\nXGRG6Zi5EQupqSmbfQqfcPc/vtlzc0WhIDL/jAbEdBbrG+9S10Awq/r517oYt4cQb1i5JBjNtLGu\nIit/8YdDRWkhMZ+bmrIZCsfcfdu45+Z8IbxRCgWR+S0bAXF9cJhDZ1ObCJ2N0hdLH+66YmlJcAdx\n57pqwlmaDT12xdeS4vnV1JSN5qMPAr8IvBn4yZhDS4CEuz+QjUKnS6EgsnBkIyDiiRFeuNjNvjPJ\nzuorPYNpxysiIXY01rBnUy33NtawtCycjdKDFV9Lw8kF/bIVPLmSjVBYD2wAPgf8zphD14EX8jWZ\nTaEgsjDNZMOg8dyd1mg/+5rb2Xsmyulxw12LDG5fU5VavK+ONctmN9x1rNGmpvJUU1OhrfiqIaki\nMm9lIyAAOvqGONASZe+ZKMfOdxIb1+G9vqY86IfYsmpp1voMCnHF12z2KewC/hTYAkSAENDn7kuz\nUeh0KRREFpfB4WQ49A8lZhUQg8MJjp3vZF9qddeOvqG041VlYXZtrGF3Uy071tdQFsneB3khrPia\nzVA4AjwM/D3JvZo/DGxy99/NRqHTpVAQWbyyFRAj7rx85XqweF9Le1/a8XDIuLthWTCrun7J7Ie7\njpWPZTiyGgruvt3MXhhdLtvM9rn7nizVOi0KBRGB7AUEwJXuweSyG83tPH+hm8S48a63rKgM+iGa\n6rMz3HXU6Iqv5eHinC7Dkc1Q+DHwAPDnwBXgMvCIu9+ZjUKnS6EgIuNlMyB6Y3GOtHaw90yUg2c7\n6I2lj6lZvqQkuQ3pplruXFud9Q/xXC3Dkc1QWE9yg50I8JtAFfA/3f1MNgqdLoWCiEwlmwERT4xw\n4lIPe8+0s78lyqWu9OGuZeEQOzYsY8/GWnZuqKWqPDvDXcfK1tyInI4+MrM3ufveGVU2SwoFEcnU\naED0xRLER2YXEO7O+Y7kJkJ7z0Q5dbknbVG4IoOtq6uC0UwNNeWzK34Co3MjRjuspzM3IhvzFELA\nLwBrgO+7+wkzewh4DCjTjGYRmU+yGRAAnf1DHGjpYF9zO0dbOxkcN9x17bKyVD9ELVtXV+VkiYxw\nqIiySHJuRGnx1HMjshEKXwPWAYeAncA5YDfwO+7+nRnUnxUKBRGZrWwHRGw4wXOjmwi1RIn2pg93\nXVpazM7U6q47GpdRHpndJkITudkWpdkIhRPAHe4+YmalQDvJoahXslD/jCkURCSbBocT9Mbi9Gcp\nIEbcefVqL/ubo+xtbqe57cbhrnetq2b3xuQeESuWls76d05k/BalxaGiWYdC2kJ4Ey2Mlw8KBRHJ\nlWwHBMDVnkH2p1Z3fe58F/Fxw1031VcGmwhtXlE5602EJtO0fMmsQ6EfGB1hZEBT6nsDfHTOwlxT\nKIjIXBgYStA3FKcvFr9h3sJM9cXiHDmXnFV9sCVKz2D6cNfaygh7UncQ2xqWZXW4azZCYf1UP+ju\n52ZY26woFERkrg0Mpe4ghrIXEIkR5+Sl7tSkuSgXOgfSjpcWF7G9sYY9TbXs2lhDdXlkVr9v1qFQ\nqBQKIpJPuQgIgPMd/cmO6uZ2Tl7qSdtEyIDbVi8NRjM11JRPe76CQkFEJIfcncHhkZwERHf/MAfP\nJu8gDrd2MjCcvonQmuqyoB/i9jWZDXdVKIiIzBF3Z2A4udx3tgNiKD7C8xe6gk2E2npjaceXlBaz\nc0OymWl7Yw2VJRMPd817KKSGsf4YKAGKgW+5+6fGnVMCfAO4B4gCH3D31qleV6EgIoUslwHh7rx6\nrTfVzBTl1Wu9aceLi4w7U8Nd9zTVsrLq9eGu2ehofhGY6GBGo48s2eBV4e69ZhYGfgp8wt0PjDnn\n10jOhfiomT0MvM/dPzDV6yoURGS+yGUTE0Db9Rj7W5IB8dz5ToYT6a+/sb4i6If4d3esySgUpppW\n99BsivVk2ozGWDj1Nf7fyHuBT6cefwv4gpmZz7c2LRGRCdiYtYrcI1m/g6hfUsJ77lzNe+5czcBQ\nIjXctZ0DLR10DwzT0tZHS1sff3ngfMavOWkoZGPIaWr9pKPAJuCL7n5w3ClrgNdSvy9uZt1ALcnZ\n0yIiC4aZUR4ppjxSnJOAKIuEeMvmOt6yuY7EiPPSpZ7gLuJ8R3/GrzNpKJjZdaZuPrrpdpzungDu\nMrNq4B/N7I3ufmLca93wYxPU8ijwKEBDQ8PNfq2ISEHLdUCEiozb11Zx+9oqHn3rRl7r6Oe+P8js\nZ6e6U1gy68pef60uM/sh8C5gbChcILno3gUzKya5V0PHBD//ZeDLkOxTyFZdIiL5luuAAFg3jWW8\nM16qz8yWA0FXtrtP2UhlZvXAcCoQykju3jY+qx4HfgXYD7wfeEb9CSKyWM1FQNzMTUPBzN4D/A9g\nNXANWA+cArbe5EdXAV9P9SsUAX/n7k+Y2WeAI+7+OPAV4C/M7AzJO4SHZ3wlIiILyK//zXO0tPWx\nsb6CL3zw7jkLiEzuFP4rsAt42t3vNrO3Ax+82Q+5+wvADRvxuPvvjXk8CPx85uWKiCwOLW19nLrc\nA8ztHUQmoTDs7lEzKzKzInd/1swy7LIQEZFsynVAZBIKXWZWSXJ28l+Z2TUgfpOfERGRHMtFQGQS\nCu8FBoDfBD5EcoTQZ2b020REJCeyFRBThkKqk/if3P0BYAT4+uzKFhGRXJsoIDI15bY+qcln/WZW\nNdsiRURk7o0GRKYyOXMQeNHMngKCHajd/TemX56IiBSyTELhn1NfIiKywN00FNz966kZyQ3u/vIc\n1CQiInkyZZ8CgJn9DHAc+H7q+7vM7PFcFyYiInPvpqFAcr+De4EuAHc/DmzIYU0iIpInmYRC3N27\nxz2nRetERBagTDqaT5jZLwIhM9sM/AawL7dliYhIPmRyp/BxkiuixoC/BrqBT+ayKBERyY9M7hRu\ndfffBX4318WIiEh+ZXKn8HkzO21m/9XMbraHgoiIzGM3DQV3fztwH9AGfNnMXjSz/zvXhYmIyNzL\n5E4Bd7/i7n8CfJTknIXfu8mPiIjIPJTJ5LUtZvZpMzsJfIHkyKO1Oa9MRETmXCYdzV8F/gZ40N0v\n5bgeERHJo0xC4e1AE7DMzDpS+yqLiMgCNGnzkZkVm9kfAudJbq7zl8BrZvaHZhaeqwJFRGTuTNWn\n8N+AGmCju9/j7neTvGOoBv77XBQnIiJza6pQeAj4j+5+ffQJd+8BfhV4d64LExGRuTdVKLi737Dw\nXWqLTi2IJyKyAE0VCi+Z2Yc7GPycAAAKLklEQVTHP2lmvwSczl1JIiKSL1ONPvoY8G0z+z+BoyTv\nDnYAZcD75qA2ERGZY5OGgrtfBHaa2f0kV0k14Hvu/oO5Kk5EROZWJns0PwM8Mwe1iIhInmW09pGI\niCwOCgUREQkoFEREJKBQEBGRgEJBREQCCgUREQkoFEREJKBQEBGRQM5CwczWmdmzZnbKzE6a2Scm\nOOc+M+s2s+OpL+39LCKSR5nsvDZTceA/ufsxM1sCHDWzp9z9pXHn/cTdH8phHSIikqGc3Sm4+2V3\nP5Z6fB04BazJ1e8TEZHZm5M+BTNrBO4GDk5weLeZPW9m3zOzrXNRj4iITCyXzUcAmFkl8A/AJ1M7\nt411DFjv7r1m9m7gO8DmCV7jUeBRgIaGhhxXLCKyeOX0TsHMwiQD4a/c/dvjj7t7j7v3ph7/CxA2\ns7oJzvuyu2939+319fW5LFlEZFHL5egjA74CnHL3z09yzsrUeZjZval6ormqSUREppbL5qM3Ab8M\nvGhmx1PPPQY0ALj7l4D3A79qZnFgAHh4on2hRURkbuQsFNz9pyR3a5vqnC8AX8hVDSIiMj2a0Swi\nUmB6Y3G6+ocA6OofojcWn7PfrVAQESkgh1s72PnZp7nSMwjAlZ5Bdn72aQ63dszJ71coiIgUiN5Y\nnEe+eoi+WILR3lV36IslUs/n/o5BoSAiUiCeeP4Skw21cYcnXriU8xoUCiIiBaI12kf/UGLCY/1D\nCVrb+3Neg0JBRKRANNZWUB4JTXisPBKisa485zUoFERECsRDd67GJhnIbwYP3bE65zUoFERECkRl\nSTFf+8i9VJSEgnAwg4qSUOr5nC9Xp1AQESkkOxprOPTYA6xcWgrAyqWlHHrsAXY01szJ71coiIgU\nmIqSYqrLIwBUl0fm5A5hlEJBREQCCgUREQkoFEREJKBQEBGRgEJBREQCCgUREQkoFEREJKBQEBGR\ngEJBREQCCgUREQkoFEREJKBQEBGRgEJBREQCCgUREQkoFEREJKBQEBGRgEJBREQCCgUREQkoFERE\nJKBQEBGRgEJBREQCCgUREQkoFEREJKBQEBGRgEJBREQCCgUREQnkLBTMbJ2ZPWtmp8zspJl9YoJz\nzMz+xMzOmNkLZrYtV/WIiMjNFefwtePAf3L3Y2a2BDhqZk+5+0tjzvm3wObU107gf6X+KSIieZCz\nOwV3v+zux1KPrwOngDXjTnsv8A1POgBUm9mqXNUkIiJTm5M+BTNrBO4GDo47tAZ4bcz3F7gxODCz\nR83siJkdaWtry1WZIiKLXs5DwcwqgX8APunuPeMPT/AjfsMT7l929+3uvr2+vj4XZYqICDkOBTML\nkwyEv3L3b09wygVg3Zjv1wKXclmTiIhMLpejjwz4CnDK3T8/yWmPAx9OjULaBXS7++Vc1SQiIlPL\n5eijNwG/DLxoZsdTzz0GNAC4+5eAfwHeDZwB+oGP5LAeERG5iZyFgrv/lIn7DMae48DHclWDiIhM\nTy7vFEREZIY21lek/XOuKBRERArQF38xPws8aO0jEREJKBRERCSgUBARkYBCQUREAgoFEREJKBRE\nRCSgUBARkYAlJxXPH2bWBpzL0svVAe1Zeq18WQjXALqOQrIQrgEWxnVk8xrWu/tNl5med6GQTWZ2\nxN2357uO2VgI1wC6jkKyEK4BFsZ15OMa1HwkIiIBhYKIiAQWeyh8Od8FZMFCuAbQdRSShXANsDCu\nY86vYVH3KYiISLrFfqcgIiJjLIpQMLN3mdnLZnbGzH5nguMlZvbN1PGDZtY491VOLYNreMTM2szs\neOrrP+SjzqmY2f82s2tmdmKS42Zmf5K6xhfMLD9rB99EBtdxn5l1j3kvfm+ua7wZM1tnZs+a2Skz\nO2lmn5jgnIJ/PzK8joJ+P8ys1MwOmdnzqWv4/QnOmbvPKHdf0F9ACGgGNgIR4HngtnHn/BrwpdTj\nh4Fv5rvuGVzDI8AX8l3rTa7jrcA24MQkx98NfI/kjn27gIP5rnmG13Ef8ES+67zJNawCtqUeLwFe\nmeC/qYJ/PzK8joJ+P1L/fitTj8PAQWDXuHPm7DNqMdwp3AuccfcWdx8C/hZ477hz3gt8PfX4W8A7\nzGzKrUTnWCbXUPDc/cdAxxSnvBf4hicdAKrNbNXcVJe5DK6j4Ln7ZXc/lnp8HTgFrBl3WsG/Hxle\nR0FL/fvtTX0bTn2N7+yds8+oxRAKa4DXxnx/gRv/ownOcfc40A3Uzkl1mcnkGgB+LnWb/y0zWzc3\npWVVptc5H+xONQd8z8y25ruYqaSaIu4m+RfqWPPq/ZjiOqDA3w8zC5nZceAa8JS7T/pe5PozajGE\nwkRpOj6FMzknnzKp77tAo7vfATzN639VzCeF/j5k6hjJJQXuBP4U+E6e65mUmVUC/wB80t17xh+e\n4EcK8v24yXUU/Pvh7gl3vwtYC9xrZm8cd8qcvReLIRQuAGP/al4LXJrsHDMrBqoorOaBm16Du0fd\nPZb69s+Ae+aotmzK5L0qeO7eM9oc4O7/AoTNrC7PZd3AzMIkP0j/yt2/PcEp8+L9uNl1zJf3A8Dd\nu4AfAu8ad2jOPqMWQygcBjab2QYzi5DspHl83DmPA7+Sevx+4BlP9egUiJtew7i23veQbFudbx4H\nPpwa9bIL6Hb3y/kuarrMbOVoe6+Z3Uvy/7NofqtKl6rvK8Apd//8JKcV/PuRyXUU+vthZvVmVp16\nXAY8AJwed9qcfUYV5+JFC4m7x83s14EnSY7i+d/uftLMPgMccffHSf5H9RdmdoZk+j6cv4pvlOE1\n/IaZvQeIk7yGR/JW8CTM7G9IjgSpM7MLwKdIdqrh7l8C/oXkiJczQD/wkfxUOrUMruP9wK+aWRwY\nAB4usD8yAN4E/DLwYqotG+AxoAHm1fuRyXUU+vuxCvi6mYVIBtbfufsT+fqM0oxmEREJLIbmIxER\nyZBCQUREAgoFEREJKBRERCSgUBARkYBCQWQSZtY42UqoWXr9j5rZh3P1+iIzseDnKYgUqtQYepGC\nojsFkamFzOzPUuvc/6uZlZlZk5l938yOmtlPzOwNAGb2M6m17p8zs6fNbIWZFZlZ6+iM1dR5Z1LH\nPm1mv52/SxO5kUJBZGqbgS+6+1agC/g5kvvmftzd7wF+G/ifqXN/SnId/LtJLm/+n919BPgn4H0A\nZrYTaHX3q3N7GSKZUfORyNTOuvvo8glHgUZgD/D3Y5azL0n9cy3wzdQ6VBHgbOr5bwK/B3yV1AYp\nuS9bZGZ0pyAytdiYxwmgBuhy97vGfG1JHf9Tkrvf3Q78X0Bp6vn9wCYzqwf+D2CiFUlFCoJCQWR6\neoCzZvbzEOxjfGfqWBVwMfV4dEVLUouv/SPweZKreRbMCp0i4ykURKbvQ8C/N7PngZO8vjXqp0k2\nK/0EaB/3M98Efgk1HUmB0yqpIiIS0J2CiIgEFAoiIhJQKIiISEChICIiAYWCiIgEFAoiIhJQKIiI\nSEChICIigf8fqb/3uvMXYWUAAAAASUVORK5CYII=\n",
      "text/plain": [
       "<matplotlib.figure.Figure at 0x29e8d82e518>"
      ]
     },
     "metadata": {},
     "output_type": "display_data"
    }
   ],
   "source": [
    "sns.regplot(x=X_vec['heavi'], y=Reviews_df['Overall Rating'], x_estimator=np.mean)# diversity is important, lecture heavy is bad\n",
    "#sns.regplot(x=X_vec['lectur heavi'], y=Reviews_df['Overall Rating'], color='green')"
   ]
  },
  {
   "cell_type": "code",
   "execution_count": 218,
   "metadata": {},
   "outputs": [
    {
     "name": "stdout",
     "output_type": "stream",
     "text": [
   ],
   "source": [
    "for j in Reviews_df.index:\n",
    "    temp=re.finditer(r'heavi',Reviews_df.loc[j]['Full Review Stem'])\n",
    "    if temp != []:\n",
    "        for match in temp:\n",
    "            print(Reviews_df.loc[j]['Full Review'][match.start()-20:match.start()+8+20])"
   ]
  },
  {
   "cell_type": "code",
   "execution_count": 344,
   "metadata": {},
   "outputs": [
    {
     "data": {
      "text/plain": [
       "<matplotlib.axes._subplots.AxesSubplot at 0x29e85ba16d8>"
      ]
     },
     "execution_count": 344,
     "metadata": {},
     "output_type": "execute_result"
    },
    {
     "data": {
      "image/png": "iVBORw0KGgoAAAANSUhEUgAAAYUAAAEKCAYAAAD9xUlFAAAABHNCSVQICAgIfAhkiAAAAAlwSFlz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\n",
      "text/plain": [
       "<matplotlib.figure.Figure at 0x29e80f21128>"
      ]
     },
     "metadata": {},
     "output_type": "display_data"
    }
   ],
   "source": [
    "sns.regplot(x=X_vec['access'], y=Reviews_df['Overall Rating'])#, x_estimator=np.mean)#\"accessible\""
   ]
  },
  {
   "cell_type": "code",
   "execution_count": 374,
   "metadata": {},
   "outputs": [
    {
     "ename": "KeyError",
     "evalue": "'handwrit'",
     "output_type": "error",
     "traceback": [
      "\u001b[1;31m---------------------------------------------------------------------------\u001b[0m",
      "\u001b[1;31mKeyError\u001b[0m                                  Traceback (most recent call last)",
      "\u001b[1;32m<ipython-input-374-0fe6ba4dc6cf>\u001b[0m in \u001b[0;36m<module>\u001b[1;34m()\u001b[0m\n\u001b[1;32m----> 1\u001b[1;33m \u001b[0mvectorizer\u001b[0m\u001b[1;33m.\u001b[0m\u001b[0mvocabulary_\u001b[0m\u001b[1;33m[\u001b[0m\u001b[1;34m'handwrit'\u001b[0m\u001b[1;33m]\u001b[0m\u001b[1;31m# handwriting is not important enough to mention, in < 3% of reviews\u001b[0m\u001b[1;33m\u001b[0m\u001b[0m\n\u001b[0m",
      "\u001b[1;31mKeyError\u001b[0m: 'handwrit'"
     ]
    }
   ],
   "source": [
    "vectorizer.vocabulary_['handwrit']# handwriting is not important enough to mention, in < 3% of reviews"
   ]
  },
  {
   "cell_type": "code",
   "execution_count": 349,
   "metadata": {},
   "outputs": [
    {
     "data": {
      "text/plain": [
       "11995.76"
      ]
     },
     "execution_count": 349,
     "metadata": {},
     "output_type": "execute_result"
    }
   ],
   "source": [
    "len(Reviews_df['Id'].value_counts().index)*4.34"
   ]
  },
  {
   "cell_type": "code",
   "execution_count": null,
   "metadata": {
    "collapsed": true
   },
   "outputs": [],
   "source": []
  }
 ],
 "metadata": {
  "kernelspec": {
   "display_name": "Python 3",
   "language": "python",
   "name": "python3"
  },
  "language_info": {
   "codemirror_mode": {
    "name": "ipython",
    "version": 3
   },
   "file_extension": ".py",
   "mimetype": "text/x-python",
   "name": "python",
   "nbconvert_exporter": "python",
   "pygments_lexer": "ipython3",
   "version": "3.6.3"
  }
 },
 "nbformat": 4,
 "nbformat_minor": 2
}
